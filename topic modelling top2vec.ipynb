{
 "cells": [
  {
   "cell_type": "code",
   "execution_count": 1,
   "id": "386c799b",
   "metadata": {},
   "outputs": [
    {
     "data": {
      "text/plain": [
       "2291"
      ]
     },
     "execution_count": 1,
     "metadata": {},
     "output_type": "execute_result"
    }
   ],
   "source": [
    "import os\n",
    "import re\n",
    "\n",
    "documents_list = []\n",
    "for filename in os.listdir(\"/mnt/c/TopicModelling/corpus/checked/chunked\"):\n",
    "    with open(os.path.join(\"/mnt/c/TopicModelling/corpus/checked/chunked\", filename), 'r') as f:\n",
    "        text = f.read()\n",
    "        documents_list.append(text)\n",
    "len(documents_list)"
   ]
  },
  {
   "cell_type": "code",
   "execution_count": 2,
   "id": "d792118a",
   "metadata": {},
   "outputs": [
    {
     "name": "stderr",
     "output_type": "stream",
     "text": [
      "2023-02-09 15:07:10.072433: I tensorflow/core/platform/cpu_feature_guard.cc:193] This TensorFlow binary is optimized with oneAPI Deep Neural Network Library (oneDNN) to use the following CPU instructions in performance-critical operations:  AVX2 FMA\n",
      "To enable them in other operations, rebuild TensorFlow with the appropriate compiler flags.\n",
      "2023-02-09 15:07:10.235520: W tensorflow/stream_executor/platform/default/dso_loader.cc:64] Could not load dynamic library 'libcudart.so.11.0'; dlerror: libcudart.so.11.0: cannot open shared object file: No such file or directory\n",
      "2023-02-09 15:07:10.235567: I tensorflow/stream_executor/cuda/cudart_stub.cc:29] Ignore above cudart dlerror if you do not have a GPU set up on your machine.\n",
      "2023-02-09 15:07:10.259694: E tensorflow/stream_executor/cuda/cuda_blas.cc:2981] Unable to register cuBLAS factory: Attempting to register factory for plugin cuBLAS when one has already been registered\n",
      "2023-02-09 15:07:11.081931: W tensorflow/stream_executor/platform/default/dso_loader.cc:64] Could not load dynamic library 'libnvinfer.so.7'; dlerror: libnvinfer.so.7: cannot open shared object file: No such file or directory\n",
      "2023-02-09 15:07:11.082247: W tensorflow/stream_executor/platform/default/dso_loader.cc:64] Could not load dynamic library 'libnvinfer_plugin.so.7'; dlerror: libnvinfer_plugin.so.7: cannot open shared object file: No such file or directory\n",
      "2023-02-09 15:07:11.082274: W tensorflow/compiler/tf2tensorrt/utils/py_utils.cc:38] TF-TRT Warning: Cannot dlopen some TensorRT libraries. If you would like to use Nvidia GPU with TensorRT, please make sure the missing libraries mentioned above are installed properly.\n",
      "2023-02-09 15:07:16,304 - top2vec - INFO - Pre-processing documents for training\n",
      "2023-02-09 15:07:16,626 - top2vec - INFO - Creating joint document/word embedding\n",
      "2023-02-09 15:08:24,292 - top2vec - INFO - Creating lower dimension embedding of documents\n",
      "2023-02-09 15:08:31,143 - top2vec - INFO - Finding dense areas of documents\n",
      "2023-02-09 15:08:31,195 - top2vec - INFO - Finding topics\n"
     ]
    }
   ],
   "source": [
    "from top2vec import Top2Vec\n",
    "model = Top2Vec(documents_list, speed=\"deep-learn\", workers = 32)"
   ]
  },
  {
   "cell_type": "code",
   "execution_count": 3,
   "id": "b302d2a5",
   "metadata": {},
   "outputs": [
    {
     "data": {
      "text/plain": [
       "14"
      ]
     },
     "execution_count": 3,
     "metadata": {},
     "output_type": "execute_result"
    }
   ],
   "source": [
    "model.get_num_topics()"
   ]
  },
  {
   "cell_type": "code",
   "execution_count": 4,
   "id": "e9bacd4f",
   "metadata": {},
   "outputs": [
    {
     "name": "stdout",
     "output_type": "stream",
     "text": [
      "Document: 369, Score: 0.6329172253608704\n",
      "-----------\n",
      "orbis nocentes natura coit humentis conuexa poli pandit almae sata telluris summa nemus iuga crescens nubige condit sulphurei turbinis ignes sodomaeas fabricat arces ardebant face tartare iubet ignauo torpere freto classica sonu polo ducis pharii iurata caput sanguineo uortice nilus nota ignotus stagnat arua ebullit rana palude feruet sterili puluere musca ulcera foedus grandinat aether coelum ceipitur nocte parcite nocu caede tyranno christiadae uiscera nudi liuida plumbo flagra fatigant furit flamma artus lingua uoces excisa necat clari astris tormenta sonant uindictae mutua poscunt iura tonantem stat prompta phalanx ruere nutus ire redire fulmineo micat ense ferox succincta peplum nuda lacertos \n",
      "\n",
      "-----------\n",
      "\n",
      "Document: 499, Score: 0.6252683997154236\n",
      "-----------\n",
      "necat sequaces robore annoso comas implicuit hedera i supremum eminet lambens cacumen impio suctu ebibit nutricis animam nascendo premit crescendo truncum perimit continuit ira cladibus monet laeua mens terminum instare petis dirae pestilens romam grauet mephitis tiberis egressus toro stagnetur urbe stare coelum manus iubeat almum inuideat humorem semihiante culmo spei decoquat adurus sirius memphitici uix summa limus arua libarit iouis uidit tenebras phoebus noctem dies elumbis hausit fulminum face noctes infaus alite ululantur umbrae spiritus horridum clusus remugit disiecti montes spatia titubanti abrupit isthmos pontus peperit armatus astris crepuit attonitis fragor rutil pigr tramitem duxit face crinitus ardor monstra \n",
      "\n",
      "-----------\n",
      "\n",
      "Document: 1507, Score: 0.6223147511482239\n",
      "-----------\n",
      "suscitat curis macerat aegris luget totas anxia noctes calidis explet lacrymis stridulus aequat curam ascalaphus respondet carmine diro recti culmine sidens gaudet tenebris alitur dolor exercet noctis umbram alituum pecudum genus grato indulgent corpora somno mutus ager maeret colligit artus bucula campo pallentes ruminat herbas furtiuos lasciua choros delia latmo monte frequent suspensa lampade restat pullo syrmate nigris tincta uenenis lurida macies culpat longum furens crudele solum crudele salum crudeleis superos oris nimium libera clamat frustra rutilo sternitur ostra frustra roseos spirat odores lectica mali foeta laboris lacrymis ebria miseros flamma artus nouo uulnere stridet uirides pasta medullas paupere tecto \n",
      "\n",
      "-----------\n",
      "\n",
      "Document: 1595, Score: 0.613332211971283\n",
      "-----------\n",
      "ceruice facinus immensum luat leaenam pascat nimium leue ignes abeat nimium breue fame tabescat parum sedecia impendet malum uidit spectabit ora patris liberos caesos traham uidebit anime grauius iubes pupulae fossum gemat sse lumen noctis aeternae reus hei orbitas hei caecitas mali farrago crimine regum uices uaria luteos fulciat uitro pedes fortuna teneat ancipitem gradum exemplo didici attonitus iacet animus dolorem fixit alienus dolor chorus uastata solym flammis stetit antiqua bethel dono tulit foecundus abram gentis extorris laeta circum sodoma uernantes agros lothus recepit arbitrii mali incautus dominus pluit irae rubentis dominus domino furens membra composuit senex patriarcha aegrum frigido \n",
      "\n",
      "-----------\n",
      "\n",
      "Document: 1579, Score: 0.5759493112564087\n",
      "-----------\n",
      "gelidae uiscera matris sollicito rapuit gremio multorum uulnera ferrum ferus ferreus dignus auerno multiplici torqueat hydro inferna canis tisiphone uectum furiis plectat triplici saeua flagello lacet extrem locus hesp noui ramenta mali nudi chalybes trax cauo igniuomis aetna antris scoriam informem raudam liq idos cudit enses spicula nexis induit hamis longos breui cuspide contos fudit clypeos finxit galeas loricam retia duri martis cauas clanxit auras tuba ferali stridula cantu sollicitas pupugit matres micat lemnius antr terrigenas sonuisse putat diuis nouum surgere bellum timet encelados ire reuinctos penitus uiderat ictos aetna monte sepultos diro metu pallidus haeret lituos tubas heu incensi \n",
      "\n",
      "-----------\n",
      "\n",
      "Document: 1478, Score: 0.557400107383728\n",
      "-----------\n",
      "linguae penit penit sauciat ictos care iether rapies serpens improbus caudae teretis uinciat hamo pastam uulnere rabiem uipereos colligat artus uidi tumid feruidus strinxit saeuos protinus enses nimium sanguine ludet inueniet br rigidos montibus ursos ras feras aequore tygres uidit laceram sparcere praedam uidit laceras mandere costas sanguineos lambere rictus cernere liceat crudele nefas diuulsos artubus artus tabificos gelido sanguine campos teneros duret ocellos udas fundat lacrymas lassa brachia iactet nuda pectora tundat honores quaerit fastu crepat abimelechus pandit ambitio uiam inuisa coelo belua inferni soror mundum habenis torquet nescit modum repperit astris immodicis impulit ausis uetitas currere metas princeps \n",
      "\n",
      "-----------\n",
      "\n",
      "Document: 1568, Score: 0.547496497631073\n",
      "-----------\n",
      "prompsit sulfur atrae fimum nebulae miseros cingunt superat busto lotus aegras lassat miseris questibus auras diuino munere seruat inconcussae moenia segor audet fidere monti uicino limite scandit taenareas uidit gelidus serpere tadas heu incertis fatis natura regit iussa ambiguos seruare oculos quand tonitrus ignes mersum sodomae turpe callauer iussa attonitos abdere uultus coniunx sedula loti continuit lumina frigida saxo incautos induit oculas salsis stillat lacrymis loto dolens scopulum pectore gestat amplexum tungere tentans miscet lacrymas oscula miscet lessu auido longum formosa uale dixit iphill scopulo pallidus haeret uix sodomae memor tutam sulfure igni uisere segor foelix seo or uicinae ruscula \n",
      "\n",
      "-----------\n",
      "\n",
      "Document: 1581, Score: 0.5391386151313782\n",
      "-----------\n",
      "socias balitat agnas notam premit subrima matrem nimium certo docta clo orba sinus aegra deos casso implores gemitu fatis euersa turrita salem solym solym quantulum seruas solym foeta uir belli potens uidit profugos cedere populos curru uehi sacra patrii delubra dei domito reges hoste superbos ueteris iudae sanguine cretos uinctus seruiit ammo submisit colla abus pugnax arma philistes syrium maximus orbem stabili fortuna loco fixit uitreos insana pedes liquidas uexit auras obscur mergit umbram monstrum infidum uarium instat celeri subnixa pilae talari cingitur faciles libret auras crebros euripus agit aequore motus rapidum sistat pelagus uehat praecipites torqueat undas salem syriae \n",
      "\n",
      "-----------\n",
      "\n",
      "Document: 1565, Score: 0.5354743599891663\n",
      "-----------\n",
      "ualido fulmine inuadit reos dira stringit iacul manu libraret nanc scopus uile stuprum sulfure nimbo luit restat sodomx seboim manet adama uernum mundo superstat sodoma floret flemus sodomae fata sepulta flemus patriae busta ruinae flemus cineres regina slemus uidimus atram serpere nebulam uidimus auidum gliscere nimbum uidimus ignes uidimus hausto sulfure stammas ire citatas heu taenareo mersa profundo lubrica nostraeculmina gentis sodomae quodcumque manet damnato uoluitur erebo cimmerio stagnat hiatu caetera tulerunt diui fremitus terror heu sulfureos lapsa ignes desperatae naenia turbal amens fleuit solum taenareis mersacaminis frustra calidas imbuit auras lacrymis mifero cogimur orco casso gemitu uota feruntur iaculum \n",
      "\n",
      "-----------\n",
      "\n",
      "Document: 2266, Score: 0.5260336995124817\n",
      "-----------\n",
      "tecta uolantes signiferi hospes olympi stupet attonitus centum gemini secreta poli scrutatur properent brumales perdere soles longas protrahat umbras nox hybernis uecta quadrigis noctiuagae cornua lunae lege uagentur dimidi micet inconstans cynthia fronte dubio fulmina motu icta ferantur phoebaea uiolando uertice daphne diuorum laesa sagittis fulmineis arida flammis perdat ueterem frondis honorem tristi augurio terreat orbem uenturi tempora belli magnatum funera signet nigris cornibus horret reuersos colligit ignes delia magnos nunciet imbres uirgineo tincta rubore praeparet euros aurea phoebe quarto purior ortu obtuso nubila cornu splendet nitidis cynthia flammis boreae flamine laesus agat sudo rure colonus longa beati tempora mensis \n",
      "\n",
      "-----------\n",
      "\n"
     ]
    }
   ],
   "source": [
    "documents, document_scores, document_ids = model.search_documents_by_topic(topic_num=1, num_docs=10)\n",
    "for doc, score, doc_id in zip(documents, document_scores, document_ids):\n",
    "    print(f\"Document: {doc_id}, Score: {score}\")\n",
    "    print(\"-----------\")\n",
    "    print(doc)\n",
    "    print(\"-----------\")\n",
    "    print()"
   ]
  },
  {
   "cell_type": "code",
   "execution_count": 5,
   "id": "8b71a959",
   "metadata": {},
   "outputs": [
    {
     "name": "stdout",
     "output_type": "stream",
     "text": [
      "[382 207 195 174 168 162 152 143 127 126 125 120 114  96]\n"
     ]
    }
   ],
   "source": [
    "topic_sizes, topic_nums = model.get_topic_sizes()\n",
    "print(topic_sizes)"
   ]
  },
  {
   "cell_type": "code",
   "execution_count": 6,
   "id": "21f129bc",
   "metadata": {},
   "outputs": [],
   "source": [
    "topic_words, word_scores, topic_nums = model.get_topics()"
   ]
  },
  {
   "cell_type": "code",
   "execution_count": 7,
   "id": "8ac690a9",
   "metadata": {
    "scrolled": false
   },
   "outputs": [
    {
     "name": "stdout",
     "output_type": "stream",
     "text": [
      "0\n",
      "Words: ['pol' 'arbitror' 'intro' 'hem' 'faciam' 'domi' 'sane' 'obsecro' 'uerum'\n",
      " 'dicam' 'quaeso' 'heus' 'here' 'scio' 'profecto' 'foras' 'habeo' 'operam'\n",
      " 'hodie' 'agam' 'merito' 'certe' 'uah' 'optime' 'animo' 'fiat' 'nescio'\n",
      " 'credo' 'facile' 'gratiam' 'hominem' 'factum' 'maxime' 'uerbis' 'age'\n",
      " 'audio' 'uelim' 'rogas' 'uelis' 'tempore' 'hospes' 'filius' 'fuerit'\n",
      " 'dic' 'opus' 'dabo' 'male' 'uideo' 'amplius' 'consilium']\n",
      "1\n",
      "Words: ['ignes' 'uidit' 'furit' 'auras' 'aras' 'uiscera' 'templa' 'sinus' 'artus'\n",
      " 'umbras' 'flammis' 'numinis' 'dira' 'orbem' 'pectora' 'monstra' 'chorus'\n",
      " 'manes' 'heu' 'poli' 'astris' 'gentis' 'miseros' 'alta' 'phoebus'\n",
      " 'sequitur' 'sanguine' 'terris' 'primus' 'faces' 'alto' 'numine' 'astra'\n",
      " 'flamma' 'sanguinem' 'uices' 'pedes' 'rapit' 'penitus' 'ruit' 'fata'\n",
      " 'noctis' 'saeua' 'terras' 'furor' 'deorum' 'premit' 'nescit' 'potens'\n",
      " 'iras']\n",
      "2\n",
      "Words: ['amorem' 'moribus' 'faciam' 'foras' 'quaeso' 'arbitror' 'domi' 'maxime'\n",
      " 'operam' 'bona' 'animo' 'ioseph' 'uerum' 'animum' 'intro' 'modis' 'bonis'\n",
      " 'mala' 'dicam' 'merito' 'hem' 'mores' 'male' 'uerbis' 'fuerit' 'pol'\n",
      " 'amore' 'tempore' 'fac' 'possit' 'optime' 'amor' 'potius' 'scio' 'sane'\n",
      " 'mali' 'obsecro' 'profecto' 'bono' 'uelis' 'credo' 'habes' 'here' 'amo'\n",
      " 'agam' 'domina' 'habere' 'hominem' 'age' 'uah']\n",
      "3\n",
      "Words: ['caesaris' 'caesar' 'deorum' 'christi' 'christum' 'christus' 'christo'\n",
      " 'uirgo' 'genus' 'uoce' 'sacra' 'actus' 'alto' 'numen' 'decus' 'poenas'\n",
      " 'cruces' 'minas' 'christe' 'aras' 'colit' 'uires' 'caesari' 'potens'\n",
      " 'roma' 'magna' 'deos' 'dei' 'mortis' 'uictus' 'numinis' 'deo' 'furor'\n",
      " 'dii' 'munus' 'coeli' 'orbis' 'miles' 'opes' 'necem' 'lingua' 'hostes'\n",
      " 'soli' 'manus' 'rursus' 'morte' 'domos' 'iussa' 'foret' 'deus']\n",
      "4\n",
      "Words: ['cruore' 'gens' 'patriae' 'uias' 'poli' 'roma' 'moras' 'furor' 'dolores'\n",
      " 'iras' 'noctis' 'lachrymas' 'nefas' 'nescit' 'testor' 'mundi' 'terras'\n",
      " 'sceleris' 'parens' 'sanguinem' 'cruor' 'lues' 'animos' 'timor' 'orbis'\n",
      " 'fata' 'faces' 'phoebus' 'ira' 'flammas' 'patres' 'lucis' 'nox' 'domos'\n",
      " 'tonans' 'fides' 'nouum' 'nocte' 'scelus' 'luctus' 'orbem' 'iugum'\n",
      " 'tellus' 'sanguinis' 'magne' 'heu' 'sequi' 'templa' 'lachrymis' 'cruces']\n",
      "5\n",
      "Words: ['sapor' 'sceptra' 'regna' 'regum' 'regni' 'uincla' 'chosro' 'fauor'\n",
      " 'tela' 'rege' 'regem' 'princeps' 'genitor' 'regno' 'cohors' 'proceres'\n",
      " 'fecit' 'natus' 'uictus' 'latus' 'miles' 'astra' 'coelo' 'regnum' 'putas'\n",
      " 'gradu' 'natura' 'urbem' 'caput' 'regi' 'parte' 'pondus' 'hostis' 'iura'\n",
      " 'polo' 'coelum' 'bella' 'regis' 'iubet' 'rex' 'monstra' 'iubar' 'lares'\n",
      " 'placet' 'reges' 'uirtus' 'uota' 'sceptrum' 'capita' 'imperium']\n",
      "6\n",
      "Words: ['iosephe' 'iosephus' 'fratrem' 'puerum' 'frater' 'fratres' 'certe'\n",
      " 'patrem' 'scio' 'puer' 'hodie' 'eheu' 'obsecro' 'nescio' 'patri' 'agam'\n",
      " 'patre' 'intro' 'filius' 'profecto' 'here' 'parentem' 'filium' 'fame'\n",
      " 'pater' 'date' 'fames' 'senex' 'optime' 'saltem' 'pridem' 'uerum' 'domi'\n",
      " 'superi' 'uide' 'audio' 'dignus' 'uiuit' 'hem' 'parentis' 'quaeso'\n",
      " 'fratrum' 'dicere' 'arbitror' 'dicam' 'cape' 'oculis' 'abi' 'merito'\n",
      " 'feram']\n",
      "7\n",
      "Words: ['sceptra' 'chosro' 'mundi' 'astris' 'astra' 'mundo' 'orbis' 'tela'\n",
      " 'regum' 'regna' 'bella' 'sapor' 'coelo' 'poli' 'terras' 'coeli' 'polo'\n",
      " 'templa' 'phoebus' 'soli' 'aras' 'orbem' 'regnum' 'regni' 'iubar' 'uices'\n",
      " 'dextra' 'coelum' 'sacrum' 'cohors' 'nefas' 'terris' 'natus' 'numine'\n",
      " 'lucis' 'aether' 'nox' 'decus' 'fecit' 'tecta' 'gentis' 'fata' 'minas'\n",
      " 'dira' 'alta' 'solis' 'iura' 'monstra' 'luce' 'terra']\n",
      "8\n",
      "Words: ['nomine' 'christum' 'christi' 'christus' 'morte' 'uera' 'homines' 'dei'\n",
      " 'christo' 'dominum' 'deus' 'hominem' 'dominus' 'uiuere' 'deo' 'facta'\n",
      " 'miseros' 'miseris' 'merito' 'domini' 'uana' 'lingua' 'humana' 'manet'\n",
      " 'uires' 'facit' 'uita' 'foret' 'opes' 'uirtute' 'dat' 'tempore' 'uerum'\n",
      " 'uitae' 'numine' 'manibus' 'legibus' 'carcere' 'malo' 'lux' 'nomen' 'ui'\n",
      " 'facile' 'reos' 'bonum' 'pati' 'actus' 'corporis' 'homo' 'salutis']\n",
      "9\n",
      "Words: ['heu' 'sanguinem' 'cruor' 'sanguinis' 'penitus' 'sanguine' 'arma' 'armis'\n",
      " 'ferro' 'furit' 'sedet' 'iras' 'fratrum' 'nescit' 'pectora' 'animos'\n",
      " 'chorus' 'uiscera' 'saeua' 'gens' 'luridus' 'umbras' 'crudelis' 'rapit'\n",
      " 'manes' 'hostis' 'lumina' 'eheu' 'uidit' 'furor' 'capita' 'pectus' 'fata'\n",
      " 'tempora' 'manus' 'ferrum' 'ferox' 'nimium' 'timor' 'quies' 'dira'\n",
      " 'duces' 'pede' 'phoebus' 'dolor' 'pectore' 'trahit' 'sequitur' 'tulit'\n",
      " 'imperium']\n",
      "10\n",
      "Words: ['crimen' 'fratris' 'pudor' 'scelera' 'soror' 'pectus' 'sceleris' 'nefas'\n",
      " 'furor' 'parentem' 'timor' 'regina' 'preces' 'coniux' 'matris'\n",
      " 'lachrymis' 'natum' 'sanguinem' 'poenas' 'parentis' 'ira' 'uirgo' 'pius'\n",
      " 'faces' 'poena' 'scelus' 'redde' 'sanguis' 'genitor' 'uulnus' 'pectoris'\n",
      " 'infelix' 'uenus' 'primus' 'latet' 'iras' 'uota' 'pietas' 'triste'\n",
      " 'nequit' 'sancta' 'decus' 'scelere' 'dolor' 'ultra' 'dolores' 'flammas'\n",
      " 'uotis' 'lues' 'cruor']\n",
      "11\n",
      "Words: ['coniugem' 'pontifex' 'coniux' 'regina' 'regem' 'regis' 'rex' 'regi'\n",
      " 'tonans' 'sequi' 'petit' 'crede' 'fas' 'nequit' 'causa' 'sceptrum'\n",
      " 'certa' 'iura' 'uenus' 'patriae' 'more' 'corde' 'decet' 'salutis' 'magne'\n",
      " 'regnum' 'placet' 'nefas' 'salus' 'reges' 'debet' 'cura' 'causam'\n",
      " 'lachrymas' 'modum' 'uolo' 'ratio' 'mentem' 'fama' 'pectus' 'leges'\n",
      " 'uoles' 'sola' 'regno' 'duces' 'ferre' 'amore' 'latet' 'mens' 'fidem']\n",
      "12\n",
      "Words: ['dux' 'caesari' 'ducem' 'armis' 'caesar' 'arma' 'miles' 'urbem' 'petit'\n",
      " 'duces' 'patriae' 'proceres' 'consilia' 'ferro' 'debet' 'moras'\n",
      " 'caesaris' 'fidem' 'tonans' 'sequi' 'animos' 'hostis' 'uictor' 'pectus'\n",
      " 'mens' 'forte' 'latet' 'aether' 'nequit' 'spes' 'pondus' 'manum' 'partes'\n",
      " 'regnum' 'timet' 'decet' 'manus' 'robur' 'fugit' 'opem' 'furor'\n",
      " 'sceptrum' 'sola' 'necem' 'mori' 'imperium' 'pontifex' 'bella' 'regem'\n",
      " 'noua']\n",
      "13\n",
      "Words: ['dulce' 'fratrum' 'templa' 'coeli' 'matris' 'christo' 'flammis'\n",
      " 'sanguinis' 'poli' 'chorus' 'lucis' 'gloria' 'artus' 'mortis' 'mater'\n",
      " 'mori' 'ignes' 'lumina' 'sancta' 'domos' 'capita' 'astra' 'coelum'\n",
      " 'corpore' 'polo' 'cruore' 'christe' 'coelo' 'igne' 'spiritus' 'testor'\n",
      " 'queis' 'ferrum' 'terris' 'mundi' 'perge' 'umbras' 'ite' 'robur' 'auras'\n",
      " 'christi' 'sinu' 'gentis' 'laeta' 'membra' 'faces' 'luce' 'pius' 'parens'\n",
      " 'pectora']\n"
     ]
    }
   ],
   "source": [
    "for words, scores, num in zip(topic_words, word_scores, topic_nums):\n",
    "    print(num)\n",
    "    print(f\"Words: {words}\")"
   ]
  },
  {
   "cell_type": "code",
   "execution_count": null,
   "id": "b642d5bd",
   "metadata": {},
   "outputs": [],
   "source": []
  },
  {
   "cell_type": "code",
   "execution_count": null,
   "id": "c2ba9568",
   "metadata": {},
   "outputs": [],
   "source": []
  },
  {
   "cell_type": "code",
   "execution_count": null,
   "id": "c47d3d2d",
   "metadata": {},
   "outputs": [],
   "source": []
  },
  {
   "cell_type": "code",
   "execution_count": null,
   "id": "4e0972be",
   "metadata": {},
   "outputs": [],
   "source": []
  },
  {
   "cell_type": "code",
   "execution_count": null,
   "id": "326815f6",
   "metadata": {},
   "outputs": [],
   "source": []
  },
  {
   "cell_type": "code",
   "execution_count": null,
   "id": "6c8f8e62",
   "metadata": {},
   "outputs": [],
   "source": []
  },
  {
   "cell_type": "code",
   "execution_count": null,
   "id": "9f1a02dc",
   "metadata": {},
   "outputs": [],
   "source": []
  },
  {
   "cell_type": "code",
   "execution_count": null,
   "id": "de12c04d",
   "metadata": {},
   "outputs": [],
   "source": []
  },
  {
   "cell_type": "code",
   "execution_count": null,
   "id": "8aa2ebb8",
   "metadata": {},
   "outputs": [],
   "source": []
  },
  {
   "cell_type": "code",
   "execution_count": null,
   "id": "542ef173",
   "metadata": {},
   "outputs": [],
   "source": []
  },
  {
   "cell_type": "code",
   "execution_count": null,
   "id": "71374bb0",
   "metadata": {},
   "outputs": [],
   "source": []
  },
  {
   "cell_type": "code",
   "execution_count": null,
   "id": "82c15472",
   "metadata": {},
   "outputs": [],
   "source": []
  },
  {
   "cell_type": "code",
   "execution_count": 8,
   "id": "64fc40ab",
   "metadata": {},
   "outputs": [
    {
     "name": "stdout",
     "output_type": "stream",
     "text": [
      "Document: 1761, Score: 0.6780526638031006\n",
      "-----------\n",
      "uis adhibetur agite proficiscimini iacienda alea facis eamus intro parato opus iter parabitis age lubet i sequimur pater adesdum paucis uolo leonide dictum puta curentur recte curari possit amplius dicam ausculta adolescentem falsus creditum fac cures diligenter sci loquor hebraeum falsus dico seruandum tradidi scio here benignius pol praebentur domi iubeo postulo deesse patiare saturi satur uideatis sedulo uinculis praecepi antea onerari uolo memini i intro regiam uocatus concedo rediturus arbitror abiit dicere enimuero male mens hariolatur fratres reuersuri propediem fiat oro obtestor deus beniaminem praesentem praesens conspicer obuiis ulnis amplectar exosculer tempore accidere posset reuertor curanda curata intus pol \n",
      "\n",
      "-----------\n",
      "\n",
      "Document: 1007, Score: 0.6609691381454468\n",
      "-----------\n",
      "obiter remorae obiectum praeuortissem dico domi dispendia mora suffero expecto commorans credo schedulis transacta prorus pol diligenter amo cedo dissoluar secus hercle saule agendum sset credo habeo gratiam syngrapha scias sudatum praeter rescribenda fuerant usuuenire solet scio pridem expectant comites accidit instrumenta conficiunt quemadmodum uestibus causas bonas male tractando reddunt bonas incuria quidam studio multi inscitia praetereundo maxime opus addendo iuuant dicam insuper dico uacat auscultare pluribus proi herus iussit absolutum facito propudium intelligit sinescis dicam nummulis perungendi aliquot lassati articuli recte forsitan tenes theologus pigmenta necio age pernosti uelim opus uerbis attinet praeter laborem metitur producas longius cape he \n",
      "\n",
      "-----------\n",
      "\n",
      "Document: 1004, Score: 0.6388692855834961\n",
      "-----------\n",
      "platea praetersse dictiant praesto eccum saulus adueniens apportitat summam consummato salutem pontifici expecto nuncias ignauiae merito incusandi pigues pexos reprimimus piscatorculos hominem populi cessitant ingerere auribus mose fas inuertere incuria obuiam it audaciae ha prouinciam idoneum statuitis organum age literis inautorate liceat uelim quidque ualeam paululum experirier ages cedo dignum maleficos factum dicetis probe probe dicis populus experiundo scies uerum age mitti postulas damascum uocat impotens assuescere audio dic zelus incessit cedo nescio iamdudum insigne edere flagrat animus spero profore mirum nomologe quoquo usui adolescens arbitror age sino uelis maturius consultius princips occurrendum sero uelis liceat heus heus polyharpax euocator \n",
      "\n",
      "-----------\n",
      "\n",
      "Document: 23, Score: 0.632278561592102\n",
      "-----------\n",
      "scire stragulam geminam uestem facis mercari uolo probe inspicias prius face feceris argentum dederis sero infectum uelis mones male late milphio respondet occupaui prius adferre occupet habeo gratiam adolescens pretio expedis obsecro aequum centum philippaeum nummum aure uolo nolo milphio collectam probe infer domum intus sorori succenseam perperam fecero hodie amisit lucri heri tergi cubitali fuste iniit modum auri potitus sycophanta astutiis belle subterducit tuto pol foras exitis argentum dedit saluos argentum perdidit accepit perierit concesso occaesiunculam opprimere maturuit occanda messis festinato opus stragulam hodie segetem ulmorum metam hominem seruum decet faxis humidula solem expandes domum reueneris aiu humidula quippini \n",
      "\n",
      "-----------\n",
      "\n",
      "Document: 80, Score: 0.617455780506134\n",
      "-----------\n",
      "abi uide heus stasime curriculo redi opus opera uis uolare ire redire adesse iubeas frangam age commodum potes manere commodissimum queo doryla quaeso hominis foro argentarius ruffulus laeuam recte absum uenit domi dicito adesse ratiuncula reliquum licere tenes culpam mos conferat ino inuenero indicent reuerso operas ergastularias excurre geta suburbano uide strenue opus faciant dic crastino die uisurum dixero redi ruri fiat postmodum doce metuant ignaui operis dabunt ducendi intus calculi constent rationes exiget herus accepti biduo dati abis iosephe tergo putiphar herus regiam moratur conueniendus regia intus compendiaria herum eundem agis efferam prius omitte pauca noli omitte facto opus \n",
      "\n",
      "-----------\n",
      "\n",
      "Document: 1745, Score: 0.6161680221557617\n",
      "-----------\n",
      "habeo gratiam credam dici uelim sati delibutum reddam gaudio potius pollicitationes aufer fers cedo age fiat mitto ambages uelim facias rogo faciam ausculta aures arrige cessas rex pharao iussit accersier somnium uatum explices dignam putaui neruos intendas dignitatem laudem exorituram auguror deus amet factum gaudeo gaudeo iosephe credas uelim feliciter spero cesserit magnam uoluptatem percepturum fiat scio animo uoluerim optime honore quouis dignum deputem pol sentis blepharo eamus cunctamur agedum lubet morae heus meliore arbitror ueste opus dissentis blepharo mones efferam opperimini ostium deus ueluti fre quenter opitulere obsecro animo bono hem cape uilibus abiectis uestibus praecedite auferri iussero sequar \n",
      "\n",
      "-----------\n",
      "\n",
      "Document: 1692, Score: 0.6087199449539185\n",
      "-----------\n",
      "fratre adolescentibus fabulata nugata hactenus magno conatu magnas nugas adfers uah ociosae patrocinare pater miseret labore defatigaui uideo faciendum deseror iniuriam ignominiam pugnis unguibus uindicandam censeo hodie exorabit merita ulciscar impurissimam eho abis mane obsecro abt turbas excitatura intus maximas arbitror morosam irritabilem puellam reperirier prudenter hercule facimus morato adolescenti nuptam locare noluimus nosset missos faceret protinus malo cauendum putaret sedulo uerum dicis chreme intro statim sequamur tempore adfuerimus metuo mecastor tumultus concitet probe mones lubens obtempero supreme iuppiter intus concitauit turbas illaudabile exhibuit spectaculum pater mater cohibuissent sororem mali commeritam puellam meliorem interemisset planissime mulier iouem furia infernalis uidebatur \n",
      "\n",
      "-----------\n",
      "\n",
      "Document: 1694, Score: 0.607375979423523\n",
      "-----------\n",
      "apagesis terrent minae periculum uidetur metuendum hoste denunciatum antea pol denunciabo dabo malum agis uenefica heu miserum succurrite populares auxilium innocenti ferte uociferaris nequissime crucior fustem deesse scapulas conteram mastigiae puellam uiuunt sceleratissimam pedes queo nolim tisiphone ha ha he aufugit ignauus telo unguibus pugnis superatus consecutus triumphum magnificum age lacessat uolet faxo mactatum malo facile difficile fiat inuitus facias mentem uenit diebus superioribus commoratus ruri hercle incommode praeterquam uerno tempore floreant iucunda amena quotidie amicis sodalibus commessabar genio indulgebam affatim pauci dies annus amplius uisus credo aberam amo breue tempus longissimum agam consil capiam nescio conniam parentes potius fecero \n",
      "\n",
      "-----------\n",
      "\n",
      "Document: 1697, Score: 0.6053454875946045\n",
      "-----------\n",
      "potui die puellarum uita uidi pessima turbarat iurgis mitto iurgia rixas uerbera cuiuis impingere audet sceleratissima fratri cedens animi iracundi procacis impotentia caeterum sororem pluris facit mancipium uernam uilissimam diebus superioribus plane occidisset furiosae manibus extorsissem miseram pol hominum infelicissimum efficit filia iratam placare coneris agas des operam insanias ostium crepat exiturus uidero uxor eho astabas chreme quaerebam eloquere paucis pamphilum rure redsse narrauit credo negotium datum aiebat conueniret serio ageret nuptis filiae deliberasse interea commutatum animum proinde orare tergiuersandi finem faciamus miserum agam responsurus scio auribus dici solet teneo lupum retinendi amittendi datur copia missam faciamus elocemus pessimam perpetuis \n",
      "\n",
      "-----------\n",
      "\n",
      "Document: 1730, Score: 0.6018509268760681\n",
      "-----------\n",
      "maxime hactenus curae fuisse cognoui negocia fides perspecta dignum iudicaui maioribus praeficiam committam possideo ocioso quieto animo liceat iussis pareant uolo officium detrectet recuset obsequi iram faxo experiatur edicam intus praedictum neget habeo pol gratiam domi dabo operam sedulo concepisti spem fefellisse uidear i intro dignitate nactus orna statim consequor uerissimum hercle fre quens dici solet mores fortunam fingere uenit mentem seruus hebraeus iosephus infimo pridem mancipiorum grege honorem subito emersit maximum ullam causam fideliter officio functus hactenus animi sententia seruierit immerito probitati debetur praemium uxor exit audire uocem uisa mariti eccum anime salute impertit uxor laeta precatur habeo pol \n",
      "\n",
      "-----------\n",
      "\n"
     ]
    }
   ],
   "source": [
    "documents, document_scores, document_ids = model.search_documents_by_topic(topic_num=0, num_docs=10)\n",
    "for doc, score, doc_id in zip(documents, document_scores, document_ids):\n",
    "    print(f\"Document: {doc_id}, Score: {score}\")\n",
    "    print(\"-----------\")\n",
    "    print(doc)\n",
    "    print(\"-----------\")\n",
    "    print()"
   ]
  },
  {
   "cell_type": "code",
   "execution_count": 9,
   "id": "04166a3e",
   "metadata": {},
   "outputs": [
    {
     "name": "stderr",
     "output_type": "stream",
     "text": [
      "2023-02-09 15:08:51,542 - top2vec - INFO - Pre-processing documents for training\n",
      "2023-02-09 15:08:51,855 - top2vec - INFO - Creating joint document/word embedding\n",
      "2023-02-09 15:10:13,665 - top2vec - INFO - Creating lower dimension embedding of documents\n",
      "2023-02-09 15:10:17,567 - top2vec - INFO - Finding dense areas of documents\n",
      "2023-02-09 15:10:17,614 - top2vec - INFO - Finding topics\n"
     ]
    }
   ],
   "source": [
    "from top2vec import Top2Vec\n",
    "model_min_15 = Top2Vec(documents_list, speed=\"deep-learn\", workers = 16, min_count=15)"
   ]
  },
  {
   "cell_type": "code",
   "execution_count": 5,
   "id": "b715cbb8",
   "metadata": {},
   "outputs": [
    {
     "data": {
      "text/plain": [
       "1000"
      ]
     },
     "execution_count": 5,
     "metadata": {},
     "output_type": "execute_result"
    }
   ],
   "source": [
    "len(model_min_15.vocab)"
   ]
  },
  {
   "cell_type": "code",
   "execution_count": 6,
   "id": "a9090343",
   "metadata": {},
   "outputs": [
    {
     "name": "stdout",
     "output_type": "stream",
     "text": [
      "['hercle', 'hodie', 'edepol', 'uolo', 'di', 'uis', 'scio', 'intro', 'homo', 'pol', 'male', 'uerum', 'agor', 'pater', 'hominem', 'facere', 'faciam', 'argentum', 'domi', 'domum', 'opus', 'credo', 'obsecro', 'operam', 'prius', 'aedis', 'age', 'dicam', 'quaeso', 'quando', 'uideo', 'abi', 'malum', 'intus', 'foras', 'aurum', 'mulier', 'factum', 'daem', 'causa', 'senex', 'animum', 'dare', 'par', 'dem', 'habeo', 'ibo', 'dico', 'dic', 'uxorem', 'salue', 'uide', 'seruos', 'dabo', 'animo', 'nescio', 'lubet', 'profecto', 'plus', 'ire', 'homines', 'potius', 'oportet', 'nome', 'ui', 'uir', 'fieri', 'heus', 'tace', 'amabo', 'habet', 'erus', 'dicere', 'leo', 'ha', 'ais', 'inquam', 'da', 'miser', 'patrem', 'recte', 'unum', 'dixi', 'opera', 'negoti', 'uxor', 'certum', 'ecastor', 'dicis', 'sequere', 'homini', 'opinor', 'aequum', 'leno', 'uelt', 'lepide', 'erum', 'mane', 'cedo', 'uenit', 'uidi', 'metuo', 'decet', 'facis', 'eccum', 'noui', 'dedi', 'dies', 'malo', 'melius', 'fecit', 'nolo', 'probe', 'pacto', 'ilico', 'iuppiter', 'facta', 'gratiam', 'scis', 'scire', 'placet', 'agis', 'manu', 'facit', 'uerba', 'filium', 'argenti', 'sati', 'faxo', 'uerbis', 'seruum', 'caue', 'diem', 'bona', 'aedibus', 'malam', 'mess', 'actutum', 'hominum', 'adulescens', 'uelim', 'dixit', 'tute', 'item', 'fidem', 'feci', 'miles', 'certo', 'mala', 'facio', 'facias', 'loquere', 'immortales', 'mulierem', 'extemplo', 'censeo', 'soror', 'oculis', 'uale', 'iube', 'filiam', 'facile', 'amicam', 'cenam', 'fac', 'habes', 'caput', 'filio', 'minas', 'audi', 'dedit', 'propter', 'loqui', 'sane', 'fiat', 'milph', 'ius', 'fores', 'mat', 'ant', 'manum', 'deos', 'foris', 'uera', 'mores', 'habere', 'moror', 'patri', 'amare', 'domo', 'nunciam', 'filius', 'bonum', 'mater', 'mali', 'mel', 'sciam', 'senem', 'uides', 'animus', 'eho', 'ueneris', 'uiginti', 'cura', 'uerbum', 'amo', 'abeo', 'gratia', 'nimium', 'potes', 'audio', 'uidetur', 'aduersum', 'ait', 'cito', 'cupio', 'facinus', 'uae', 'faciat', 'liber', 'manus', 'solus', 'ade', 'rogas', 'opsecro', 'die', 'bono', 'frugi', 'consilium', 'boni', 'iussit', 'forum', 'aetatem', 'mirum', 'intellego', 'amat', 'scias', 'strat', 'usus', 'ueniat', 'amica', 'negotium', 'siquidem', 'hasce', 'ostium', 'spes', 'postea', 'alium', 'tene', 'uix', 'uiri', 'cras', 'os', 'continuo', 'certe', 'facito', 'miserum', 'forte', 'habeas', 'salutem', 'arbitror', 'uiro', 'magnum', 'nullus', 'saluos', 'ambo', 'uelis', 'sync', 'cor', 'amator', 'loquitur', 'fateor', 'argento', 'obuiam', 'dicta', 'amanti', 'posse', 'dicas', 'sor', 'matrem', 'gaudeo', 'officium', 'auro', 'oculos', 'factis', 'misero', 'eloquar', 'mulieres', 'aedes', 'det', 'modum', 'minis', 'uirum', 'prandium', 'censes', 'animi', 'uitam', 'agam', 'sci', 'praedicas', 'pote', 'portum', 'epig', 'fecisti', 'face', 'nugas', 'iubes', 'foro', 'lenonem', 'optimum', 'crucem', 'ago', 'philem', 'ament', 'praeda', 'aquam', 'merito', 'pleus', 'salua', 'modi', 'nequam', 'des', 'auri', 'plane', 'habent', 'propera', 'responde', 'aeque', 'molestus', 'peregre', 'rogo', 'mentem', 'pudet', 'locum', 'praeter', 'nauem', 'audiui', 'uoles', 'modis', 'uelle', 'ere', 'saluum', 'capite', 'memini', 'it', 'credam', 'uoluptas', 'saltem', 'uolui', 'date', 'pallam', 'istac', 'aetate', 'potis', 'eloquere', 'loco', 'corde', 'dictis', 'nimio', 'puerum', 'dicat', 'uia', 'abis', 'heri', 'futurum', 'puer', 'copia', 'pectore', 'perdidi', 'fide', 'uiam', 'ingenio', 'accipe', 'faciunt', 'taces', 'dicito', 'naui', 'amphitruo', 'nihili', 'amicum', 'refert', 'sedulo', 'poti', 'mare', 'uideor', 'ite', 'amor', 'iui', 'sel', 'eamus', 'solent', 'natus', 'optume', 'perdant', 'ples', 'stich', 'habeat', 'uidere', 'scies', 'tempus', 'occidi', 'habe', 'faciant', 'sequor', 'feceris', 'sententia', 'filia', 'amico', 'sat', 'uxori', 'liceat', 'magna', 'hospes', 'seruo', 'uirtute', 'partem', 'propere', 'oppido', 'solet', 'datur', 'aegre', 'athenis', 'amicus', 'datum', 'frater', 'dabitur', 'dari', 'dat', 'sauium', 'tabellas', 'ari', 'maxume', 'perge', 'pulchre', 'aecum', 'iussi', 'dignus', 'decem', 'ag', 'urbem', 'sos', 'occasio', 'uidulum', 'sang', 'mari', 'proinde', 'abire', 'rus', 'manibus', 'cape', 'eccam', 'uenus', 'minime', 'postulas', 'multos', 'aduenit', 'genere', 'hegio', 'dicit', 'iratus', 'nummum', 'nequeo', 'puero', 'credere', 'perdidit', 'pectus', 'forma', 'sapis', 'uidisse', 'antam', 'ingenium', 'misera', 'apage', 'clanculum', 'facies', 'uiuo', 'matri', 'sient', 'scelus', 'dictum', 'uiuere', 'adueniens', 'maxime', 'ancilla', 'secum', 'scelestus', 'stulte', 'dis', 'ibidem', 'parum', 'duo', 'agere', 'malus', 'audes', 'patiar', 'amas', 'dono', 'postremo', 'amoris', 'ludos', 'emit', 'pugnis', 'gentium', 'rursum', 'audacter', 'taceo', 'filiae', 'lubens', 'sies', 'noctu', 'uita', 'redeo', 'teneo', 'fuisse', 'summo', 'ausculta', 'probus', 'cena', 'repperi', 'dolis', 'procul', 'nocte', 'oportuit', 'deae', 'habitat', 'morem', 'conuenit', 'docte', 'uolunt', 'lepidum', 'sinam', 'quaero', 'gym', 'opere', 'do', 'magno', 'arbitratu', 'eri', 'facto', 'portu', 'uocat', 'faciet', 'milphio', 'palaestrio', 'oro', 'loquor', 'ferre', 'loquar', 'uenio', 'data', 'credidi', 'copiam', 'exit', 'mitte', 'fides', 'emi', 'nostris', 'incedit', 'nauis', 'uiuit', 'amore', 'parentes', 'lepida', 'dedisti', 'tenes', 'dici', 'serui', 'hominis', 'uah', 'adire', 'interea', 'amorem', 'reddam', 'gnatus', 'ruri', 'philocomasium', 'ambae', 'minae', 'scit', 'unam', 'tranio', 'uiros', 'dote', 'fecisse', 'scortum', 'neminem', 'ducere', 'agite', 'libera', 'agas', 'meretricem', 'liberum', 'euenit', 'genus', 'aqua', 'rogitas', 'heia', 'fero', 'noctes', 'quaeris', 'militem', 'flagitium', 'sciat', 'stultus', 'signum', 'oratio', 'terra', 'iure', 'seni', 'sentio', 'peperit', 'nouisse', 'bonis', 'aio', 'placide', 'cesso', 'uino', 'potuit', 'pridem', 'iubeo', 'miserae', 'ames', 'consili', 'pedibus', 'uelit', 'attinet', 'foribus', 'hem', 'uidisti', 'possit', 'uenire', 'roga', 'gnatum', 'lena', 'mira', 'patre', 'hal', 'amicos', 'lenoni', 'spero', 'sanus', 'amicis', 'lege', 'facite', 'uideas', 'linguam', 'adulescentem', 'erga', 'malis', 'frustra', 'locus', 'dabit', 'nouisti', 'diuitias', 'nostram', 'uenerit', 'imperium', 'amet', 'terram', 'uerbero', 'agat', 'salus', 'factus', 'patria', 'urbe', 'memoras', 'anc', 'facturum', 'agedum', 'actum', 'habuit', 'more', 'bonus', 'foret', 'preti', 'fuerit', 'praedam', 'queo', 'serua', 'uenerem', 'era', 'amplius', 'redi', 'temperi', 'uinum', 'pariter', 'puere', 'annos', 'ambas', 'misit', 'parata', 'seruitutem', 'oculi', 'pas', 'pamph', 'magni', 'aduerte', 'ceterum', 'serio', 'consilia', 'pedes', 'agorastocles', 'uostra', 'pedem', 'sententiam', 'amicae', 'dedisse', 'nostrae', 'agit', 'redde', 'sapienter', 'das', 'aiunt', 'noli', 'lingua', 'paene', 'faenus', 'uxore', 'aliter', 'odio', 'pecunia', 'respice', 'dignum', 'otium', 'duae', 'loci', 'denuo', 'uocem', 'namque', 'pallium', 'quiduis', 'exemplum', 'eapse', 'moribus', 'uiris', 'dicto', 'militi', 'gnato', 'seru', 'fanum', 'habui', 'auris', 'maximum', 'cepi', 'quaerere', 'optime', 'sapit', 'euclio', 'mulieri', 'culpam', 'praesente', 'orationem', 'parasitus', 'occepi', 'fortasse', 'spectatores', 'mecastor', 'inquit', 'ducam', 'rationem', 'epistulam', 'faxis', 'talentum', 'negas', 'detur', 'sceleste', 'epidice', 'nego', 'istinc', 'eat', 'conspicor', 'philocr', 'metuis', 'uirgo', 'stultitia', 'lenone', 'possim', 'patriam', 'agitur', 'habeam', 'lucrum', 'bonae', 'sciunt', 'possis', 'astaphium', 'utrum', 'aufer', 'mittam', 'charmides', 'ueni', 'ampelisca', 'amici', 'ocius', 'adesse', 'irata', 'ueniam', 'anulum', 'iniuriam', 'perit', 'dotem', 'palaestra', 'menaechme', 'mutuum', 'oras', 'lor', 'philolaches', 'simo', 'nomine', 'petere', 'sodalis', 'amant', 'molestum', 'properas', 'aram', 'abe', 'genua', 'dices', 'eheu', 'culpa', 'aduenis', 'uasa', 'paratum', 'tergo', 'sermonem', 'miseram', 'satius', 'perdidisti', 'rex', 'quadraginta', 'periclum', 'uidit', 'uerbo', 'patris', 'pretio', 'sex', 'dato', 'ambula', 'sororem', 'proi', 'prior', 'uox', 'mortalis', 'parasitum', 'triginta', 'aderit', 'censeas', 'fano', 'commodum', 'nullam', 'malae', 'hospitium', 'pueri', 'uidet', 'nata', 'aiebat', 'abeas', 'miror', 'postules', 'empta', 'oppidum', 'credis', 'mortuum', 'sodalem', 'summa', 'persse', 'ignem', 'mauelim', 'negat', 'deum', 'fortuna', 'impudens', 'pseudolus', 'callicles', 'dixisti', 'dimidium', 'tergum', 'ballio', 'facilius', 'quaestum', 'mittere', 'diuinam', 'patr', 'attulit', 'inueni', 'benigne', 'uirginem', 'uellem', 'capiam', 'maximam', 'auxilium', 'addecet', 'adducam', 'nescis', 'ordine', 'mnesilochus', 'philocrates', 'optigit', 'absente', 'noctem', 'soli', 'sola', 'cibo', 'commode', 'nihilo', 'opes', 'facete', 'quaerit', 'uitae', 'cibum', 'quidnam', 'dabis', 'maiorem', 'uiuam', 'uetus', 'propterea', 'periclo', 'hospitem', 'taceas', 'gratias', 'flocci', 'seruire', 'erilem', 'eu', 'quattuor', 'uoluit', 'audire', 'faciundum', 'sceledre', 'hostis', 'aduenientem', 'gesta', 'amantem', 'ualete', 'phronesium', 'hortum', 'sumptu', 'gripe', 'praetorem', 'causam', 'esto', 'coquos', 'memineris', 'harpax', 'confido', 'tenet', 'quor', 'pseudole', 'alcumena', 'possunt', 'syr', 'accipiam', 'paucis', 'metu', 'soleo', 'corpus', 'ioui', 'locis', 'perdere', 'ancillas', 'uideam', 'uolup', 'quinque', 'extra', 'tribus', 'gnate', 'ualet', 'meministi', 'lysidamus', 'uilico', 'cleostrata', 'ueneri', 'iniuria', 'nuntium', 'dant', 'facitis', 'soles', 'alienum', 'bonam', 'nummos', 'subito', 'secus', 'ueltis', 'orat', 'fidicinam', 'potero', 'faxint', 'quippini', 'epistulas', 'facie', 'abite', 'aduertite', 'fecero', 'ueniet', 'aduenisse', 'magnam', 'principio', 'rectius', 'leges', 'meretrix', 'ancillam']\n"
     ]
    }
   ],
   "source": [
    "print(model_min_15.vocab)"
   ]
  },
  {
   "cell_type": "code",
   "execution_count": 8,
   "id": "f552a84d",
   "metadata": {},
   "outputs": [
    {
     "data": {
      "text/plain": [
       "10"
      ]
     },
     "execution_count": 8,
     "metadata": {},
     "output_type": "execute_result"
    }
   ],
   "source": [
    "model_min_15.get_num_topics()"
   ]
  },
  {
   "cell_type": "code",
   "execution_count": 10,
   "id": "c50139c3",
   "metadata": {},
   "outputs": [
    {
     "name": "stdout",
     "output_type": "stream",
     "text": [
      "Document: 538, Score: 0.5156365036964417\n",
      "-----------\n",
      "orcus astutiam institui deueniam lenonem domum solus docebo adueniam datum argentum dicat fidicina argenti minas habere quinquaginta nudiustertius manibus denumeraui amica pater filiam retur leno sceleratum caput imprudens alligabit argentum acceperit adducta chaer uersutior rota figularis parabo dolosam fidicinam nummo conducta emptam simulet senes duo docte ludificetur ducet apecides patrem parate permeditatam dolis astuts onustam mittam longum loquor demorati scitis \n",
      "\n",
      "-----------\n",
      "\n",
      "Document: 1142, Score: 0.5086054801940918\n",
      "-----------\n",
      "fabulare fabulor uis argentum accipias iamdudum des porrexi manum accipe quinque argenti lectae numeratae minae erus iussit ferre polymachaeroplagides deberet mitteres phenicium erus dico miles loquor macedonius inquam misit polymachaeroplagides uera memoras argentum dares leno ballio mulierem abduceres phenicium dixit recte meministi mane redeo maturate propera propero uides diem uideo aduocare uolo mane reuertar simo agimus manufesto hominem teneo argentum \n",
      "\n",
      "-----------\n",
      "\n",
      "Document: 864, Score: 0.4836617410182953\n",
      "-----------\n",
      "compellat praesenti facit conuicium debetur obsecro hercle iube obi ci argentum os impurae beluae iubeam iube homini argento os uerberarier da perfacile ictus perpetior argenteos audi uidetur obsecro hercle idoneus danista genus improbissimum curo uolo dici scire expeto argentum debet philolaches paulum quantillum quadraginta minas sane censeas paulum argenti faenus creditum audio quattuor quadraginta debentur minae sors faenus da tantum \n",
      "\n",
      "-----------\n",
      "\n",
      "Document: 1088, Score: 0.48164212703704834\n",
      "-----------\n",
      "habeo profecto pridem uendidi ornamentis intestinis amicam uendidisti ualde uiginti minis uiginti minis uis quater quinis minis militi macedonio quindecim habeo minas audio amicam factam argenteam ausus facere libuit eho pseudole gladium adfer opus gladio occidam occidis potius fames occiderit ais terra tegit hominum periurissume iurauisti nulli uenditurum fateor conceptis uerbis consutis periurauisti sceleste argentum intro condidi scelestus argentum promere \n",
      "\n",
      "-----------\n",
      "\n",
      "Document: 545, Score: 0.45884060859680176\n",
      "-----------\n",
      "produci intus iubes fidicina nugari potes producis fidicinam acropolistidem inquam inquam nouisse rere amicam posse inquam filius deperibat fidicinam gentium hercle argentum dedi stulte datum reor peccatum largiter seruum misi sectari solet gnatum destinauit fidicinam homo articulatim concidit senex seruos concidit suspicio fidicina cerua supposita senex os sublitum plane probe requiram bellator uale epidice frugi pugnauisti homo emunxisti mucidum minimi \n",
      "\n",
      "-----------\n",
      "\n",
      "Document: 671, Score: 0.4583880305290222\n",
      "-----------\n",
      "uendas emi pater dem tace senex quidam mandauit emerem faciem quidam adulescens pater mandauit faciem emerem dem uiginti minis opinor posse uendere uelim dantur septem uiginti minae dem inquam dem nescis dicturus tace minas accudere triginta sient uertisti emit ubinam homo gentium dem eccillum uideo iubet quinque addere minas hercle diui infelicent dem ibidem adnutat addam sex minas septem dem \n",
      "\n",
      "-----------\n",
      "\n",
      "Document: 1093, Score: 0.4541369676589966\n",
      "-----------\n",
      "uicino callipho incedere sepulcro uetere uiginti minas effodiam hodie dem erili filio concedam sermonem legam simo damnosis amatoribus dictator fiat athenis atticis anteueniat filio credo urbem solus sermoni uelle amicam liberare quaerere argentum renuntiant pridem sensi subolebat dissimulabam fetet filius occisa haeret negotium commeatum uolui argentarium proficisci oppido opsaepta uia praesensit praedae praedatoribus callipho homines gestant auscultant crimina arbitratu liceat \n",
      "\n",
      "-----------\n",
      "\n",
      "Document: 533, Score: 0.4524604082107544\n",
      "-----------\n",
      "leges tenet epidico habeas gratiam faciam sedulo conueniam adducam quoia fidicina argentum feram emi minimo quadraginta fortasse posse emi minimo minis uerum plus dederis referam captio decem occupatum argentum dies mulierem adulescens deperit auro opulentus magnus miles rhodius raptor hostium gloriosus emet dabit aurum lubens face lucrum amplum deos oro impetras intro argentum promis uisam forum epidice ueni abitas prius \n",
      "\n",
      "-----------\n",
      "\n",
      "Document: 1137, Score: 0.4518457055091858\n",
      "-----------\n",
      "uenit homo boni minae uiginti sanae saluae hodie instipulatus pseudolus uelim hercle roga uiginti minas hodie potitus muliere gnato hodie promisit dabit roga opsecro hercle gestio promittere modis saluam scias habeto mulierem dono periclum sciam stipularier concepisti uerba uiginti minas dabi dabuntur actum male conuenisti hominem ambo ait narrat quaeso dixit nugas theatri uerba comeds solent lenoni dici pueri sciunt \n",
      "\n",
      "-----------\n",
      "\n",
      "Document: 113, Score: 0.4281253218650818\n",
      "-----------\n",
      "uera uerum edepol malefacta iterari possunt sciens fideli infidus fueris prensus furto sies manifesto uerberatus periuraris sacro manus admolitus damno molestiae dedecori fueris creditum datum pernegaris amicae amico fueris fidelis languorem duritia dederis octo ualidos lictores ulmeis adfectos lentis uirgis male relata gratia collegam collaudaui leo maxime ingenio decuit omitte rogo responde leo rogita uis argenti uinginti minas habes leo \n",
      "\n",
      "-----------\n",
      "\n"
     ]
    }
   ],
   "source": [
    "documents, document_scores, document_ids = model_min_15.search_documents_by_topic(topic_num=1, num_docs=10)\n",
    "for doc, score, doc_id in zip(documents, document_scores, document_ids):\n",
    "    print(f\"Document: {doc_id}, Score: {score}\")\n",
    "    print(\"-----------\")\n",
    "    print(doc)\n",
    "    print(\"-----------\")\n",
    "    print()"
   ]
  },
  {
   "cell_type": "code",
   "execution_count": 11,
   "id": "ed90d7dc",
   "metadata": {},
   "outputs": [
    {
     "name": "stdout",
     "output_type": "stream",
     "text": [
      "[245 221 194 147 143 130 112 112 101  82]\n"
     ]
    }
   ],
   "source": [
    "topic_sizes, topic_nums = model_min_15.get_topic_sizes()\n",
    "print(topic_sizes)"
   ]
  },
  {
   "cell_type": "code",
   "execution_count": 12,
   "id": "6b8757f4",
   "metadata": {},
   "outputs": [],
   "source": [
    "topic_words, word_scores, topic_nums = model_min_15.get_topics(5)"
   ]
  },
  {
   "cell_type": "code",
   "execution_count": 13,
   "id": "1b5ff395",
   "metadata": {},
   "outputs": [
    {
     "name": "stdout",
     "output_type": "stream",
     "text": [
      "0\n",
      "Words: ['philocrates' 'bonis' 'uirtute' 'seruitutem' 'fides' 'mores' 'seruire'\n",
      " 'hegio' 'patri' 'genus' 'amico' 'diuitias' 'liberum' 'frugi' 'factis'\n",
      " 'moribus' 'lucrum' 'merito' 'secus' 'conuenit' 'parentes' 'erga' 'feci'\n",
      " 'meretricem' 'gnatum' 'filius' 'genere' 'ingenio' 'intellego' 'habuit'\n",
      " 'dicto' 'pectore' 'ingenium' 'dis' 'gratiam' 'deum' 'opes' 'more' 'boni'\n",
      " 'dolis' 'denuo' 'occasio' 'sodalem' 'repperi' 'perdidit' 'bonus'\n",
      " 'mittere' 'loqui' 'filio' 'feceris']\n",
      "1\n",
      "Words: ['minas' 'minae' 'argenti' 'quinque' 'uiginti' 'argentum' 'quadraginta'\n",
      " 'epidice' 'fidicinam' 'argento' 'minis' 'leo' 'triginta' 'pseudole'\n",
      " 'mittam' 'pseudolus' 'lenone' 'emi' 'simo' 'gnato' 'tranio' 'tribus'\n",
      " 'ballio' 'facie' 'magno' 'roga' 'sex' 'uah' 'ueni' 'gentium' 'faenus'\n",
      " 'philolaches' 'amantem' 'emit' 'loquor' 'tabellas' 'sciunt' 'hodie'\n",
      " 'inquam' 'amicam' 'gratia' 'stultus' 'dabit' 'dolis' 'tergum' 'arbitratu'\n",
      " 'audio' 'quidnam' 'des' 'pulchre']\n",
      "2\n",
      "Words: ['mat' 'pallam' 'alcumena' 'uxori' 'menaechme' 'uxor' 'domo' 'capiam'\n",
      " 'amphitruo' 'pedem' 'taces' 'peperit' 'syr' 'noctu' 'mulier' 'redi'\n",
      " 'uiro' 'portu' 'pallium' 'uirum' 'nescio' 'agam' 'sati' 'mess' 'certe'\n",
      " 'conspicor' 'mane' 'nouisti' 'ruri' 'praeter' 'aduenit' 'tergum'\n",
      " 'prandium' 'uxore' 'oculi' 'rex' 'rus' 'exit' 'locis' 'proi' 'mira'\n",
      " 'uxorem' 'malae' 'actutum' 'rogitas' 'era' 'pugnis' 'clanculum'\n",
      " 'loquitur' 'abis']\n",
      "3\n",
      "Words: ['daem' 'uidulum' 'fanum' 'palaestra' 'gripe' 'ueneris' 'fano' 'mari'\n",
      " 'scelestus' 'magnum' 'uenus' 'ampelisca' 'ueneri' 'ples' 'aram' 'leno'\n",
      " 'uenerem' 'mare' 'inueni' 'mulieres' 'ambas' 'copia' 'optigit' 'oras'\n",
      " 'genua' 'ignem' 'miserae' 'partem' 'propera' 'talentum' 'benigne' 'ius'\n",
      " 'spes' 'nocte' 'lor' 'terram' 'gratiam' 'persse' 'istinc' 'facie' 'salua'\n",
      " 'occepi' 'caput' 'lenonem' 'naui' 'optime' 'aduerte' 'continuo' 'erum'\n",
      " 'iniuria']\n",
      "4\n",
      "Words: ['sceledre' 'philocomasium' 'palaestrio' 'uidisse' 'uidit' 'erilem'\n",
      " 'fores' 'hospitem' 'uerbero' 'exit' 'pleus' 'paene' 'uidisti' 'foris'\n",
      " 'intus' 'eat' 'militi' 'fuerit' 'sceleste' 'oculos' 'nostrae' 'eho'\n",
      " 'potis' 'aram' 'possit' 'aedibus' 'eccam' 'amorem' 'domi' 'negoti'\n",
      " 'aedis' 'ignem' 'orationem' 'ambas' 'oculi' 'aduenisse' 'agam' 'mira'\n",
      " 'uidi' 'maximum' 'sermonem' 'linguam' 'mirum' 'facinus' 'soli' 'miles'\n",
      " 'nescio' 'potuit' 'hortum' 'ostium']\n"
     ]
    }
   ],
   "source": [
    "for words, scores, num in zip(topic_words, word_scores, topic_nums):\n",
    "    print(num)\n",
    "    print(f\"Words: {words}\")"
   ]
  },
  {
   "cell_type": "code",
   "execution_count": 15,
   "id": "01c57df6",
   "metadata": {},
   "outputs": [
    {
     "data": {
      "text/plain": [
       "(array(['genere gnatum optestor hegio animum auariorem faxint diuitiae patri unicus decere uideatur saturum seruire sumptu uestitu potius minime honestum mendicantem uiuere uirtute deum maiorum diues lucrum utile homini existimo scio multos lucrum lutulentos homines reddidit profecto damnum praestet facere lucrum odi aurum suasit perperam animum aduerte sentio pariter scias filius seruit captus alide reddis praeterea unum nummum duis amittam pacto \\n'],\n",
       "       dtype=object),\n",
       " array([0.5173715], dtype=float32),\n",
       " array([333]))"
      ]
     },
     "execution_count": 15,
     "metadata": {},
     "output_type": "execute_result"
    }
   ],
   "source": [
    "model_min_15.search_documents_by_topic(0, num_docs=1) #search documents by topic"
   ]
  },
  {
   "cell_type": "code",
   "execution_count": null,
   "id": "99cbcf98",
   "metadata": {},
   "outputs": [],
   "source": []
  }
 ],
 "metadata": {
  "kernelspec": {
   "display_name": "Python 3 (ipykernel)",
   "language": "python",
   "name": "python3"
  },
  "language_info": {
   "codemirror_mode": {
    "name": "ipython",
    "version": 3
   },
   "file_extension": ".py",
   "mimetype": "text/x-python",
   "name": "python",
   "nbconvert_exporter": "python",
   "pygments_lexer": "ipython3",
   "version": "3.8.10"
  }
 },
 "nbformat": 4,
 "nbformat_minor": 5
}
