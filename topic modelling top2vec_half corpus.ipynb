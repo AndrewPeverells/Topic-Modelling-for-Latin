{
 "cells": [
  {
   "cell_type": "code",
   "execution_count": 68,
   "id": "386c799b",
   "metadata": {},
   "outputs": [
    {
     "data": {
      "text/plain": [
       "1130"
      ]
     },
     "execution_count": 68,
     "metadata": {},
     "output_type": "execute_result"
    }
   ],
   "source": [
    "import os\n",
    "import re\n",
    "\n",
    "documents_list = []\n",
    "for filename in os.listdir(\"/mnt/c/TopicModelling/corpus/checked/chunked_half\"):\n",
    "    with open(os.path.join(\"/mnt/c/TopicModelling/corpus/checked/chunked_half\", filename), 'r') as f:\n",
    "        text = f.read()\n",
    "        documents_list.append(text)\n",
    "len(documents_list)"
   ]
  },
  {
   "cell_type": "code",
   "execution_count": 69,
   "id": "d792118a",
   "metadata": {},
   "outputs": [
    {
     "name": "stderr",
     "output_type": "stream",
     "text": [
      "2023-03-09 16:57:38,511 - top2vec - INFO - Pre-processing documents for training\n",
      "2023-03-09 16:57:38,670 - top2vec - INFO - Creating joint document/word embedding\n",
      "2023-03-09 16:58:01,447 - top2vec - INFO - Creating lower dimension embedding of documents\n",
      "2023-03-09 16:58:05,802 - top2vec - INFO - Finding dense areas of documents\n",
      "2023-03-09 16:58:05,824 - top2vec - INFO - Finding topics\n"
     ]
    }
   ],
   "source": [
    "from top2vec import Top2Vec\n",
    "model = Top2Vec(documents_list, speed=\"deep-learn\", workers = 16)"
   ]
  },
  {
   "cell_type": "code",
   "execution_count": 70,
   "id": "b302d2a5",
   "metadata": {},
   "outputs": [
    {
     "data": {
      "text/plain": [
       "11"
      ]
     },
     "execution_count": 70,
     "metadata": {},
     "output_type": "execute_result"
    }
   ],
   "source": [
    "model.get_num_topics()"
   ]
  },
  {
   "cell_type": "code",
   "execution_count": 71,
   "id": "e9bacd4f",
   "metadata": {},
   "outputs": [
    {
     "name": "stdout",
     "output_type": "stream",
     "text": [
      "Document: 811, Score: 0.9115614295005798\n",
      "-----------\n",
      "acolastus pantolabus sannio syrus pamphagus aedes hospitis lassum longa reddidit profectio en imminent here praecurram fores totae pateant heus heus prodit insistam pulsare aperit ostium actutum prauiter pepulit forcs uoster pantolabus pantolabus mortuum pridem credebam uiderim mense uiso hem uix agnoscerem uocem noscem quaeso ades imis manibus narrandi locus hunccine uides obsecro cuias adduxti pamphago adducitur nosti pamphagus obsonatum abcessit nummos dedit introducatur commodus sane conuiuator syre hem syre sarcinam aufer intro redi plura habeo mandem optatus aduenis hospes optime accede copia nullas habes ueneres accersi praeces mulieres forma praecellenti primariam sane dabo feminam hem syre audi laidem accerse causae \n",
      "\n",
      "-----------\n",
      "\n",
      "Document: 817, Score: 0.9106161594390869\n",
      "-----------\n",
      "decus fecte gnatonicae mutuum muli seabunt sane festiuiter mutuum testimonium inuictus damus pantolobe placuit hesterna epulatio cenaui sciam unctius gulam oppleui summum dapsili luxu indulsi maxime summa circumlingam labra mel atticum sapiunt hesterni iusculi reliquiae pol dentes mihiuolupe iugum suctu macerare nidorem carnium uncti supreme digiti offundunt naribus somnia irride arbitrabar pamphage felices propicium habuimus comum agnoscis promoueris dis patrono factus pamphage exmendico lubeus feci triumphe liber pater ceres age eamus quaeso cantiu culam sonant euanti thiades gaudia seruemus uespertinis horulis uoluptabitur hospes laide incoctus stomacho extundatur cibus maximam cenam ieiunos decet stultescere tripudiis sapidissime mones somu portenderat pars reliqua \n",
      "\n",
      "-----------\n",
      "\n",
      "Document: 496, Score: 0.8609493374824524\n",
      "-----------\n",
      "fieri schismata origista mulier dico praestiterat fieri eho redigitis nesciam sies quaenam paupercula lugduno quaepiam ecclesiam uidet putet audies heus symmistae decretistae canonistae cosmosophoi codicillares holoporphyri ptochopluti ordines copistae sigilliferi adeste uides stat firma dei electio habens signaculum scit ait ait here insanit corybantica uidetur heus tenete inquam repagulis lunaticam bethlemitas insanam abducite sequimini compositis asiae rursus europam reducem recta transfero agat sciam laudem succenturier dico pedetentim agas asia minime locus loco mutanda consilia ui astu tractabimus affabre habitus nomine ponendus ueste ueste tego tegam tectius fallam reliqui furias adesse opus psychepho thanate adopyle adesse momento impero mora momento sata \n",
      "\n",
      "-----------\n",
      "\n",
      "Document: 483, Score: 0.859889566898346\n",
      "-----------\n",
      "obiter remorae obiectum praeuortissem dico domi dispendia mora suffero expecto commorans credo schedulis transacta prorus pol diligenter amo cedo dissoluar secus hercle saule agendum sset credo habeo gratiam syngrapha scias sudatum praeter rescribenda fuerant usuuenire solet scio pridem expectant comites accidit instrumenta conficiunt quemadmodum uestibus causas bonas male tractando reddunt bonas incuria quidam studio multi inscitia praetereundo maxime opus addendo iuuant dicam insuper dico uacat auscultare pluribus proi herus iussit absolutum facito propudium intelligit sinescis dicam nummulis perungendi aliquot lassati articuli recte forsitan tenes theologus pigmenta necio age pernosti uelim opus uerbis attinet praeter laborem metitur producas longius cape he \n",
      "\n",
      "-----------\n",
      "\n",
      "Document: 0, Score: 0.8550382852554321\n",
      "-----------\n",
      "stirpem isaciam oportet perdere perdere ui dolo dolo doce uetulum monstrum artes exciderunt senicula uides senicula uides instructior dolis debebas consumsi ueteres nouos parere senio suggere habes accipite pascuis morantur fratres abit uisum iosephus sciunt patre amari doluit fratribus nescio resedit dolor excitate ignes subdite consilii discordia somnia pridem fastidita repetam stomachum mouebunt scio optime paramus tempestiuius ira habebis fecerit delationem occulte scitis crimine atroci fratres accusauerit scio scio sapis odium tenerum patris amorem absurde hem plenas optimi consilii matres uetula uenefica medium consulas habes probatis uestem polymitam tace ulcus tange tange uoles ite alacres cuiusque captus caepta expedite abite \n",
      "\n",
      "-----------\n",
      "\n",
      "Document: 511, Score: 0.8548406958580017\n",
      "-----------\n",
      "saturitas beet istac incredulitate obsecro famelicum uentrem fac somns satures habent irrides rideam carbonarias opes ostentes somns felix ridiculum age ridiculum lubet stultulus uates uidebis fiam cellarius cuiuspiam nummatioris domini opulentia construxero largum uentri commeatum regum maximus credo uigilans somniat pamphage beatum regno quaeso facias probe aduleris plebiscita ordinis petam rogas terentiano principe uiro opus fuerit interprete optimo artifex nascitur operam dico age doctoris suscipe partes nolo arbitrum quemquam pone fabricam tutus locus elementa dabo fac docibilem probes discipulum en aurem utramque surrigo magistri dogmata acolaste pater dedit pater futtilis somnium iners ualeat philaute dicta stimnlant fac fidas inciderit mentem \n",
      "\n",
      "-----------\n",
      "\n",
      "Document: 510, Score: 0.8507421016693115\n",
      "-----------\n",
      "alienum arrodere cibum piget acerbae sortis pigeret disciplinam sectarier liceret forsitan liceret potis assequi conarer possem pamphage uenter magister ingeni conatus iuuerit nescio feliciter hem uide prolixe agis rape sodes collegio inauctorandum rape plane artem calleo possim uiuere oikositoi au illotis sacra manibus tractanda lotus corruger fame specimen des artis oportet comits indictis uoles nomen dabis plausu lege obsecro discipulum habe profui salua immemor benefic accepti immemor age suscipio parasitastrum habeo pol gratiam uis facere obserues sedulo seria curanda seria securus ferrer pede seria curaui seria uentris negotia appellites scilicet persuadeas catonibus rigidis sophois uales oratio sapiant ingenio inuideo item \n",
      "\n",
      "-----------\n",
      "\n",
      "Document: 851, Score: 0.8491701483726501\n",
      "-----------\n",
      "mitte male loqui stomachari desine potius deliquit paucis expedi interii lingua haeret metu reticendum egressam familiariter aggreditur comiter appellat neminem adesse cerneret ancillam seruulum blanditiis uerborum illecebris tentare coepit constanter detrectantem serio confidenter aggreditur uim parat hem ais perii tollens uocem opem domesticorum inclamans turpitudinem foedam dedecus uix effugi misera syro clamorem accurrente protinus relicto manibus tenebam pallio pedes coniicit miserum spe decidi summum bonum seruum putabam hominem industrium probum fidelem uidebatur uerum infelix capio dolorem compraehendi potes effugiat perfidus hominis impudentem confidentiam audax facinus facere ausum age iosephe exi iosephe pudet uult perii herus remedium malo inueniam respondebo miser \n",
      "\n",
      "-----------\n",
      "\n",
      "Document: 521, Score: 0.8445051312446594\n",
      "-----------\n",
      "pamphage merito amo colo fac curetur prandium cella penuaria faciam habes lucrosas aleas nosti noui sensi talos polypos facultatum bona pars fallor audio screantem acolastum uale abt homo istius pecuniam emungat callet artes dolos nouit principio aleam ludit fingit ludi indoctum nonnunquam manus blande remittit hamo illicit pisces esca praetento incalet lusor cupidini lucri auctioris incumbens pecuniae aleae lusum coniectos iactu facit lucrosam presso pollice uenerem mittit uult caniculae imperat iactu cadat damnosa didici malo perdidi facultates ictus piscator sapio uerum hospes amissa protrudetur foras duta fient exempla timeo dixi timere immo gaudeo laedant communia mala adiutor accedam miseriae feret \n",
      "\n",
      "-----------\n",
      "\n",
      "Document: 150, Score: 0.8431729078292847\n",
      "-----------\n",
      "dure fatorum rigor taedet uidere solis aeternum iubar ualete regna funerum tectoria ualete sceptra pondus ignauum manus ibo ibo alta montium solus iuga ibo latebras genitor ululat belluinus belluam amplectar patrem madida sugam uulnera longo fremens gemitu iterabo nemoribus luctus \n",
      "-----------\n",
      "\n"
     ]
    }
   ],
   "source": [
    "documents, document_scores, document_ids = model.search_documents_by_topic(topic_num=1, num_docs=10)\n",
    "for doc, score, doc_id in zip(documents, document_scores, document_ids):\n",
    "    print(f\"Document: {doc_id}, Score: {score}\")\n",
    "    print(\"-----------\")\n",
    "    print(doc)\n",
    "    print(\"-----------\")\n",
    "    print()"
   ]
  },
  {
   "cell_type": "code",
   "execution_count": 72,
   "id": "8b71a959",
   "metadata": {},
   "outputs": [
    {
     "name": "stdout",
     "output_type": "stream",
     "text": [
      "[136 124 108 108 101 100 100  93  89  87  84]\n"
     ]
    }
   ],
   "source": [
    "topic_sizes, topic_nums = model.get_topic_sizes()\n",
    "print(topic_sizes)"
   ]
  },
  {
   "cell_type": "code",
   "execution_count": 73,
   "id": "21f129bc",
   "metadata": {},
   "outputs": [],
   "source": [
    "topic_words, word_scores, topic_nums = model.get_topics()"
   ]
  },
  {
   "cell_type": "code",
   "execution_count": 74,
   "id": "8ac690a9",
   "metadata": {
    "scrolled": false
   },
   "outputs": [
    {
     "name": "stdout",
     "output_type": "stream",
     "text": [
      "0\n",
      "Words: ['uoce' 'christus' 'furor' 'astra' 'mortis' 'deo' 'genus' 'numen' 'uultu'\n",
      " 'coelo' 'amor' 'caesar' 'artus' 'membra' 'christi' 'maior' 'uota'\n",
      " 'pectore' 'fratrum' 'morte' 'actus' 'ferox' 'fecit' 'polo' 'mori' 'manum'\n",
      " 'ferro' 'manus' 'mente' 'minas' 'deum' 'diem' 'uerba' 'coeli' 'faces'\n",
      " 'animi' 'nefas' 'ora' 'uocat' 'uiam' 'iubet' 'manu' 'mater' 'tenet'\n",
      " 'pietas' 'coelum' 'ore' 'magna' 'necem' 'fata']\n",
      "1\n",
      "Words: ['hem' 'age' 'quaeso' 'uerum' 'miser' 'obsecro' 'domi' 'facere' 'potius'\n",
      " 'heus' 'pater' 'uide' 'patre' 'fili' 'uideo' 'hodie' 'patris' 'scio'\n",
      " 'opus' 'animo' 'patrem' 'male' 'uiuere' 'uis' 'uiri' 'boni' 'patri'\n",
      " 'malum' 'habet' 'nescio' 'uides' 'fratrem' 'potes' 'bona' 'puer' 'domum'\n",
      " 'mora' 'uia' 'placet' 'fecit' 'malis' 'mali' 'tempus' 'mala' 'dabo' 'uix'\n",
      " 'uolo' 'nescit' 'regna' 'hominum']\n",
      "2\n",
      "Words: ['ioseph' 'oculos' 'mora' 'habet' 'animo' 'ui' 'boni' 'ore' 'uideo'\n",
      " 'solum' 'fratres' 'uide' 'fortuna' 'nescio' 'solus' 'decet' 'pectore'\n",
      " 'sinu' 'en' 'hominum' 'scio' 'mali' 'mors' 'uenit' 'prius' 'male' 'uirum'\n",
      " 'dedit' 'obsecro' 'uiri' 'genus' 'miles' 'amor' 'restat' 'uia' 'uix'\n",
      " 'uolo' 'domi' 'uirtus' 'heus' 'puer' 'patri' 'oculis' 'deus' 'spes'\n",
      " 'opus' 'domum' 'hodie' 'dies' 'christus']\n",
      "3\n",
      "Words: ['coniux' 'nescit' 'crimen' 'iubar' 'heu' 'miser' 'iura' 'ira' 'moras'\n",
      " 'regis' 'dolor' 'nefas' 'pectus' 'necem' 'sola' 'cura' 'regem' 'sacra'\n",
      " 'regi' 'causa' 'parens' 'uolo' 'actus' 'uitae' 'mala' 'corpus' 'salus'\n",
      " 'uale' 'uitam' 'pietas' 'uerba' 'mentis' 'uita' 'regum' 'mentem' 'fata'\n",
      " 'placet' 'orbis' 'mens' 'furor' 'age' 'fides' 'caesar' 'facit' 'dabit'\n",
      " 'decus' 'fecit' 'testor' 'fidem' 'scelus']\n",
      "4\n",
      "Words: ['facere' 'opus' 'animo' 'habet' 'fecit' 'male' 'uideo' 'quaeso' 'fili'\n",
      " 'uerum' 'nescio' 'age' 'potius' 'hem' 'domi' 'uides' 'domum' 'uis' 'fide'\n",
      " 'hominum' 'uirtus' 'boni' 'uirum' 'uiri' 'mora' 'mali' 'uide' 'obsecro'\n",
      " 'solum' 'regna' 'potes' 'heus' 'patris' 'patrem' 'facit' 'pectore'\n",
      " 'dedit' 'ioseph' 'patre' 'pater' 'decet' 'scio' 'uenit' 'malum' 'manu'\n",
      " 'hodie' 'animum' 'uocat' 'ui' 'patri']\n",
      "5\n",
      "Words: ['mori' 'necem' 'ferro' 'furor' 'morte' 'faces' 'parens' 'uultu' 'scelus'\n",
      " 'uoce' 'astra' 'uultus' 'uitam' 'mortis' 'ira' 'ora' 'diem' 'manus'\n",
      " 'numen' 'polo' 'mente' 'mortem' 'metus' 'sanguine' 'fidem' 'caesar'\n",
      " 'coelum' 'turba' 'ferox' 'decus' 'deum' 'coeli' 'tenet' 'manes' 'christi'\n",
      " 'regnum' 'genus' 'nefas' 'orbis' 'pectus' 'tellus' 'crimen' 'testor'\n",
      " 'fata' 'animi' 'potens' 'iubar' 'mens' 'mors' 'corpus']\n",
      "6\n",
      "Words: ['scio' 'fili' 'uerum' 'nescio' 'obsecro' 'hominum' 'facere' 'heus'\n",
      " 'hodie' 'hem' 'age' 'animo' 'uideo' 'habet' 'male' 'domi' 'mali' 'uix'\n",
      " 'pater' 'uide' 'quaeso' 'oculos' 'mora' 'potius' 'uiuere' 'ui' 'boni'\n",
      " 'patri' 'decet' 'opus' 'uolo' 'ioseph' 'placet' 'malum' 'uiri' 'patrem'\n",
      " 'uia' 'patre' 'fratrem' 'restat' 'miser' 'fratres' 'uenit' 'puer' 'uides'\n",
      " 'potes' 'sinu' 'solus' 'reges' 'comes']\n",
      "7\n",
      "Words: ['genus' 'pectore' 'amor' 'christus' 'ore' 'mortis' 'manus' 'christi'\n",
      " 'membra' 'mors' 'arma' 'ferro' 'maior' 'deo' 'artus' 'uoce' 'metus' 'ora'\n",
      " 'caesar' 'miles' 'polo' 'tenet' 'solum' 'faces' 'astra' 'dedit' 'animi'\n",
      " 'furor' 'deum' 'uenit' 'tellus' 'dies' 'potens' 'uultu' 'deus' 'natura'\n",
      " 'manu' 'spes' 'uirtus' 'turba' 'ferox' 'sinu' 'diem' 'sacra' 'magna'\n",
      " 'uota' 'fide' 'numen' 'domus' 'deos']\n",
      "8\n",
      "Words: ['potes' 'habet' 'age' 'scio' 'decet' 'hodie' 'uide' 'patre' 'uolo'\n",
      " 'comes' 'boni' 'uiri' 'placet' 'oculos' 'princeps' 'obsecro' 'uia'\n",
      " 'solus' 'heus' 'malis' 'fratrem' 'uideo' 'rex' 'regi' 'hominum' 'hem'\n",
      " 'sinu' 'domum' 'reges' 'uiuere' 'oculis' 'mali' 'uix' 'mora' 'regis'\n",
      " 'regem' 'frustra' 'manes' 'fili' 'potius' 'regno' 'quaeso' 'restat'\n",
      " 'nomen' 'genitor' 'aetas' 'salus' 'fortuna' 'dabo' 'animo']\n",
      "9\n",
      "Words: ['faces' 'iubet' 'morte' 'ferox' 'oculis' 'mente' 'astra' 'uitam' 'artus'\n",
      " 'iacet' 'ora' 'polo' 'maior' 'deum' 'uultus' 'frustra' 'uoce' 'ore'\n",
      " 'mortem' 'ferro' 'dei' 'comes' 'coelum' 'coeli' 'coelo' 'furor' 'genitor'\n",
      " 'dabo' 'numen' 'manes' 'pectore' 'animi' 'parens' 'miles' 'uota' 'minas'\n",
      " 'genus' 'fortuna' 'uiam' 'regna' 'mortis' 'mori' 'solum' 'fratrum' 'mala'\n",
      " 'oculos' 'facit' 'manus' 'magna' 'manum']\n",
      "10\n",
      "Words: ['ore' 'uultus' 'ora' 'sanguine' 'faces' 'oculos' 'mentis' 'dabo' 'decet'\n",
      " 'ferro' 'moras' 'uitam' 'miles' 'mortem' 'uirum' 'ferox' 'mente' 'sinu'\n",
      " 'minas' 'decus' 'metus' 'comes' 'ui' 'animi' 'solum' 'genus' 'ferre'\n",
      " 'frustra' 'corpus' 'fratrum' 'scelus' 'deum' 'iacet' 'parens' 'oculis'\n",
      " 'hominum' 'necem' 'pectus' 'genitor' 'pectore' 'restat' 'mens' 'prius'\n",
      " 'facit' 'polo' 'mori' 'membra' 'manus' 'arma' 'potens']\n"
     ]
    }
   ],
   "source": [
    "for words, scores, num in zip(topic_words, word_scores, topic_nums):\n",
    "    print(num)\n",
    "    print(f\"Words: {words}\")"
   ]
  },
  {
   "cell_type": "code",
   "execution_count": null,
   "id": "c47d3d2d",
   "metadata": {},
   "outputs": [],
   "source": []
  },
  {
   "cell_type": "code",
   "execution_count": null,
   "id": "4e0972be",
   "metadata": {},
   "outputs": [],
   "source": []
  },
  {
   "cell_type": "code",
   "execution_count": null,
   "id": "326815f6",
   "metadata": {},
   "outputs": [],
   "source": []
  },
  {
   "cell_type": "code",
   "execution_count": null,
   "id": "6c8f8e62",
   "metadata": {},
   "outputs": [],
   "source": []
  },
  {
   "cell_type": "code",
   "execution_count": null,
   "id": "9f1a02dc",
   "metadata": {},
   "outputs": [],
   "source": []
  },
  {
   "cell_type": "code",
   "execution_count": null,
   "id": "de12c04d",
   "metadata": {},
   "outputs": [],
   "source": []
  },
  {
   "cell_type": "code",
   "execution_count": null,
   "id": "8aa2ebb8",
   "metadata": {},
   "outputs": [],
   "source": []
  },
  {
   "cell_type": "code",
   "execution_count": null,
   "id": "542ef173",
   "metadata": {},
   "outputs": [],
   "source": []
  },
  {
   "cell_type": "code",
   "execution_count": null,
   "id": "71374bb0",
   "metadata": {},
   "outputs": [],
   "source": []
  },
  {
   "cell_type": "code",
   "execution_count": null,
   "id": "82c15472",
   "metadata": {},
   "outputs": [],
   "source": []
  },
  {
   "cell_type": "code",
   "execution_count": 8,
   "id": "64fc40ab",
   "metadata": {},
   "outputs": [
    {
     "name": "stdout",
     "output_type": "stream",
     "text": [
      "Document: 1761, Score: 0.6780526638031006\n",
      "-----------\n",
      "uis adhibetur agite proficiscimini iacienda alea facis eamus intro parato opus iter parabitis age lubet i sequimur pater adesdum paucis uolo leonide dictum puta curentur recte curari possit amplius dicam ausculta adolescentem falsus creditum fac cures diligenter sci loquor hebraeum falsus dico seruandum tradidi scio here benignius pol praebentur domi iubeo postulo deesse patiare saturi satur uideatis sedulo uinculis praecepi antea onerari uolo memini i intro regiam uocatus concedo rediturus arbitror abiit dicere enimuero male mens hariolatur fratres reuersuri propediem fiat oro obtestor deus beniaminem praesentem praesens conspicer obuiis ulnis amplectar exosculer tempore accidere posset reuertor curanda curata intus pol \n",
      "\n",
      "-----------\n",
      "\n",
      "Document: 1007, Score: 0.6609691381454468\n",
      "-----------\n",
      "obiter remorae obiectum praeuortissem dico domi dispendia mora suffero expecto commorans credo schedulis transacta prorus pol diligenter amo cedo dissoluar secus hercle saule agendum sset credo habeo gratiam syngrapha scias sudatum praeter rescribenda fuerant usuuenire solet scio pridem expectant comites accidit instrumenta conficiunt quemadmodum uestibus causas bonas male tractando reddunt bonas incuria quidam studio multi inscitia praetereundo maxime opus addendo iuuant dicam insuper dico uacat auscultare pluribus proi herus iussit absolutum facito propudium intelligit sinescis dicam nummulis perungendi aliquot lassati articuli recte forsitan tenes theologus pigmenta necio age pernosti uelim opus uerbis attinet praeter laborem metitur producas longius cape he \n",
      "\n",
      "-----------\n",
      "\n",
      "Document: 1004, Score: 0.6388692855834961\n",
      "-----------\n",
      "platea praetersse dictiant praesto eccum saulus adueniens apportitat summam consummato salutem pontifici expecto nuncias ignauiae merito incusandi pigues pexos reprimimus piscatorculos hominem populi cessitant ingerere auribus mose fas inuertere incuria obuiam it audaciae ha prouinciam idoneum statuitis organum age literis inautorate liceat uelim quidque ualeam paululum experirier ages cedo dignum maleficos factum dicetis probe probe dicis populus experiundo scies uerum age mitti postulas damascum uocat impotens assuescere audio dic zelus incessit cedo nescio iamdudum insigne edere flagrat animus spero profore mirum nomologe quoquo usui adolescens arbitror age sino uelis maturius consultius princips occurrendum sero uelis liceat heus heus polyharpax euocator \n",
      "\n",
      "-----------\n",
      "\n",
      "Document: 23, Score: 0.632278561592102\n",
      "-----------\n",
      "scire stragulam geminam uestem facis mercari uolo probe inspicias prius face feceris argentum dederis sero infectum uelis mones male late milphio respondet occupaui prius adferre occupet habeo gratiam adolescens pretio expedis obsecro aequum centum philippaeum nummum aure uolo nolo milphio collectam probe infer domum intus sorori succenseam perperam fecero hodie amisit lucri heri tergi cubitali fuste iniit modum auri potitus sycophanta astutiis belle subterducit tuto pol foras exitis argentum dedit saluos argentum perdidit accepit perierit concesso occaesiunculam opprimere maturuit occanda messis festinato opus stragulam hodie segetem ulmorum metam hominem seruum decet faxis humidula solem expandes domum reueneris aiu humidula quippini \n",
      "\n",
      "-----------\n",
      "\n",
      "Document: 80, Score: 0.617455780506134\n",
      "-----------\n",
      "abi uide heus stasime curriculo redi opus opera uis uolare ire redire adesse iubeas frangam age commodum potes manere commodissimum queo doryla quaeso hominis foro argentarius ruffulus laeuam recte absum uenit domi dicito adesse ratiuncula reliquum licere tenes culpam mos conferat ino inuenero indicent reuerso operas ergastularias excurre geta suburbano uide strenue opus faciant dic crastino die uisurum dixero redi ruri fiat postmodum doce metuant ignaui operis dabunt ducendi intus calculi constent rationes exiget herus accepti biduo dati abis iosephe tergo putiphar herus regiam moratur conueniendus regia intus compendiaria herum eundem agis efferam prius omitte pauca noli omitte facto opus \n",
      "\n",
      "-----------\n",
      "\n",
      "Document: 1745, Score: 0.6161680221557617\n",
      "-----------\n",
      "habeo gratiam credam dici uelim sati delibutum reddam gaudio potius pollicitationes aufer fers cedo age fiat mitto ambages uelim facias rogo faciam ausculta aures arrige cessas rex pharao iussit accersier somnium uatum explices dignam putaui neruos intendas dignitatem laudem exorituram auguror deus amet factum gaudeo gaudeo iosephe credas uelim feliciter spero cesserit magnam uoluptatem percepturum fiat scio animo uoluerim optime honore quouis dignum deputem pol sentis blepharo eamus cunctamur agedum lubet morae heus meliore arbitror ueste opus dissentis blepharo mones efferam opperimini ostium deus ueluti fre quenter opitulere obsecro animo bono hem cape uilibus abiectis uestibus praecedite auferri iussero sequar \n",
      "\n",
      "-----------\n",
      "\n",
      "Document: 1692, Score: 0.6087199449539185\n",
      "-----------\n",
      "fratre adolescentibus fabulata nugata hactenus magno conatu magnas nugas adfers uah ociosae patrocinare pater miseret labore defatigaui uideo faciendum deseror iniuriam ignominiam pugnis unguibus uindicandam censeo hodie exorabit merita ulciscar impurissimam eho abis mane obsecro abt turbas excitatura intus maximas arbitror morosam irritabilem puellam reperirier prudenter hercule facimus morato adolescenti nuptam locare noluimus nosset missos faceret protinus malo cauendum putaret sedulo uerum dicis chreme intro statim sequamur tempore adfuerimus metuo mecastor tumultus concitet probe mones lubens obtempero supreme iuppiter intus concitauit turbas illaudabile exhibuit spectaculum pater mater cohibuissent sororem mali commeritam puellam meliorem interemisset planissime mulier iouem furia infernalis uidebatur \n",
      "\n",
      "-----------\n",
      "\n",
      "Document: 1694, Score: 0.607375979423523\n",
      "-----------\n",
      "apagesis terrent minae periculum uidetur metuendum hoste denunciatum antea pol denunciabo dabo malum agis uenefica heu miserum succurrite populares auxilium innocenti ferte uociferaris nequissime crucior fustem deesse scapulas conteram mastigiae puellam uiuunt sceleratissimam pedes queo nolim tisiphone ha ha he aufugit ignauus telo unguibus pugnis superatus consecutus triumphum magnificum age lacessat uolet faxo mactatum malo facile difficile fiat inuitus facias mentem uenit diebus superioribus commoratus ruri hercle incommode praeterquam uerno tempore floreant iucunda amena quotidie amicis sodalibus commessabar genio indulgebam affatim pauci dies annus amplius uisus credo aberam amo breue tempus longissimum agam consil capiam nescio conniam parentes potius fecero \n",
      "\n",
      "-----------\n",
      "\n",
      "Document: 1697, Score: 0.6053454875946045\n",
      "-----------\n",
      "potui die puellarum uita uidi pessima turbarat iurgis mitto iurgia rixas uerbera cuiuis impingere audet sceleratissima fratri cedens animi iracundi procacis impotentia caeterum sororem pluris facit mancipium uernam uilissimam diebus superioribus plane occidisset furiosae manibus extorsissem miseram pol hominum infelicissimum efficit filia iratam placare coneris agas des operam insanias ostium crepat exiturus uidero uxor eho astabas chreme quaerebam eloquere paucis pamphilum rure redsse narrauit credo negotium datum aiebat conueniret serio ageret nuptis filiae deliberasse interea commutatum animum proinde orare tergiuersandi finem faciamus miserum agam responsurus scio auribus dici solet teneo lupum retinendi amittendi datur copia missam faciamus elocemus pessimam perpetuis \n",
      "\n",
      "-----------\n",
      "\n",
      "Document: 1730, Score: 0.6018509268760681\n",
      "-----------\n",
      "maxime hactenus curae fuisse cognoui negocia fides perspecta dignum iudicaui maioribus praeficiam committam possideo ocioso quieto animo liceat iussis pareant uolo officium detrectet recuset obsequi iram faxo experiatur edicam intus praedictum neget habeo pol gratiam domi dabo operam sedulo concepisti spem fefellisse uidear i intro dignitate nactus orna statim consequor uerissimum hercle fre quens dici solet mores fortunam fingere uenit mentem seruus hebraeus iosephus infimo pridem mancipiorum grege honorem subito emersit maximum ullam causam fideliter officio functus hactenus animi sententia seruierit immerito probitati debetur praemium uxor exit audire uocem uisa mariti eccum anime salute impertit uxor laeta precatur habeo pol \n",
      "\n",
      "-----------\n",
      "\n"
     ]
    }
   ],
   "source": [
    "documents, document_scores, document_ids = model.search_documents_by_topic(topic_num=0, num_docs=10)\n",
    "for doc, score, doc_id in zip(documents, document_scores, document_ids):\n",
    "    print(f\"Document: {doc_id}, Score: {score}\")\n",
    "    print(\"-----------\")\n",
    "    print(doc)\n",
    "    print(\"-----------\")\n",
    "    print()"
   ]
  },
  {
   "cell_type": "code",
   "execution_count": 9,
   "id": "04166a3e",
   "metadata": {},
   "outputs": [
    {
     "name": "stderr",
     "output_type": "stream",
     "text": [
      "2023-02-09 15:08:51,542 - top2vec - INFO - Pre-processing documents for training\n",
      "2023-02-09 15:08:51,855 - top2vec - INFO - Creating joint document/word embedding\n",
      "2023-02-09 15:10:13,665 - top2vec - INFO - Creating lower dimension embedding of documents\n",
      "2023-02-09 15:10:17,567 - top2vec - INFO - Finding dense areas of documents\n",
      "2023-02-09 15:10:17,614 - top2vec - INFO - Finding topics\n"
     ]
    }
   ],
   "source": [
    "from top2vec import Top2Vec\n",
    "model_min_15 = Top2Vec(documents_list, speed=\"deep-learn\", workers = 16, min_count=15)"
   ]
  },
  {
   "cell_type": "code",
   "execution_count": 5,
   "id": "b715cbb8",
   "metadata": {},
   "outputs": [
    {
     "data": {
      "text/plain": [
       "1000"
      ]
     },
     "execution_count": 5,
     "metadata": {},
     "output_type": "execute_result"
    }
   ],
   "source": [
    "len(model_min_15.vocab)"
   ]
  },
  {
   "cell_type": "code",
   "execution_count": 6,
   "id": "a9090343",
   "metadata": {},
   "outputs": [
    {
     "name": "stdout",
     "output_type": "stream",
     "text": [
      "['hercle', 'hodie', 'edepol', 'uolo', 'di', 'uis', 'scio', 'intro', 'homo', 'pol', 'male', 'uerum', 'agor', 'pater', 'hominem', 'facere', 'faciam', 'argentum', 'domi', 'domum', 'opus', 'credo', 'obsecro', 'operam', 'prius', 'aedis', 'age', 'dicam', 'quaeso', 'quando', 'uideo', 'abi', 'malum', 'intus', 'foras', 'aurum', 'mulier', 'factum', 'daem', 'causa', 'senex', 'animum', 'dare', 'par', 'dem', 'habeo', 'ibo', 'dico', 'dic', 'uxorem', 'salue', 'uide', 'seruos', 'dabo', 'animo', 'nescio', 'lubet', 'profecto', 'plus', 'ire', 'homines', 'potius', 'oportet', 'nome', 'ui', 'uir', 'fieri', 'heus', 'tace', 'amabo', 'habet', 'erus', 'dicere', 'leo', 'ha', 'ais', 'inquam', 'da', 'miser', 'patrem', 'recte', 'unum', 'dixi', 'opera', 'negoti', 'uxor', 'certum', 'ecastor', 'dicis', 'sequere', 'homini', 'opinor', 'aequum', 'leno', 'uelt', 'lepide', 'erum', 'mane', 'cedo', 'uenit', 'uidi', 'metuo', 'decet', 'facis', 'eccum', 'noui', 'dedi', 'dies', 'malo', 'melius', 'fecit', 'nolo', 'probe', 'pacto', 'ilico', 'iuppiter', 'facta', 'gratiam', 'scis', 'scire', 'placet', 'agis', 'manu', 'facit', 'uerba', 'filium', 'argenti', 'sati', 'faxo', 'uerbis', 'seruum', 'caue', 'diem', 'bona', 'aedibus', 'malam', 'mess', 'actutum', 'hominum', 'adulescens', 'uelim', 'dixit', 'tute', 'item', 'fidem', 'feci', 'miles', 'certo', 'mala', 'facio', 'facias', 'loquere', 'immortales', 'mulierem', 'extemplo', 'censeo', 'soror', 'oculis', 'uale', 'iube', 'filiam', 'facile', 'amicam', 'cenam', 'fac', 'habes', 'caput', 'filio', 'minas', 'audi', 'dedit', 'propter', 'loqui', 'sane', 'fiat', 'milph', 'ius', 'fores', 'mat', 'ant', 'manum', 'deos', 'foris', 'uera', 'mores', 'habere', 'moror', 'patri', 'amare', 'domo', 'nunciam', 'filius', 'bonum', 'mater', 'mali', 'mel', 'sciam', 'senem', 'uides', 'animus', 'eho', 'ueneris', 'uiginti', 'cura', 'uerbum', 'amo', 'abeo', 'gratia', 'nimium', 'potes', 'audio', 'uidetur', 'aduersum', 'ait', 'cito', 'cupio', 'facinus', 'uae', 'faciat', 'liber', 'manus', 'solus', 'ade', 'rogas', 'opsecro', 'die', 'bono', 'frugi', 'consilium', 'boni', 'iussit', 'forum', 'aetatem', 'mirum', 'intellego', 'amat', 'scias', 'strat', 'usus', 'ueniat', 'amica', 'negotium', 'siquidem', 'hasce', 'ostium', 'spes', 'postea', 'alium', 'tene', 'uix', 'uiri', 'cras', 'os', 'continuo', 'certe', 'facito', 'miserum', 'forte', 'habeas', 'salutem', 'arbitror', 'uiro', 'magnum', 'nullus', 'saluos', 'ambo', 'uelis', 'sync', 'cor', 'amator', 'loquitur', 'fateor', 'argento', 'obuiam', 'dicta', 'amanti', 'posse', 'dicas', 'sor', 'matrem', 'gaudeo', 'officium', 'auro', 'oculos', 'factis', 'misero', 'eloquar', 'mulieres', 'aedes', 'det', 'modum', 'minis', 'uirum', 'prandium', 'censes', 'animi', 'uitam', 'agam', 'sci', 'praedicas', 'pote', 'portum', 'epig', 'fecisti', 'face', 'nugas', 'iubes', 'foro', 'lenonem', 'optimum', 'crucem', 'ago', 'philem', 'ament', 'praeda', 'aquam', 'merito', 'pleus', 'salua', 'modi', 'nequam', 'des', 'auri', 'plane', 'habent', 'propera', 'responde', 'aeque', 'molestus', 'peregre', 'rogo', 'mentem', 'pudet', 'locum', 'praeter', 'nauem', 'audiui', 'uoles', 'modis', 'uelle', 'ere', 'saluum', 'capite', 'memini', 'it', 'credam', 'uoluptas', 'saltem', 'uolui', 'date', 'pallam', 'istac', 'aetate', 'potis', 'eloquere', 'loco', 'corde', 'dictis', 'nimio', 'puerum', 'dicat', 'uia', 'abis', 'heri', 'futurum', 'puer', 'copia', 'pectore', 'perdidi', 'fide', 'uiam', 'ingenio', 'accipe', 'faciunt', 'taces', 'dicito', 'naui', 'amphitruo', 'nihili', 'amicum', 'refert', 'sedulo', 'poti', 'mare', 'uideor', 'ite', 'amor', 'iui', 'sel', 'eamus', 'solent', 'natus', 'optume', 'perdant', 'ples', 'stich', 'habeat', 'uidere', 'scies', 'tempus', 'occidi', 'habe', 'faciant', 'sequor', 'feceris', 'sententia', 'filia', 'amico', 'sat', 'uxori', 'liceat', 'magna', 'hospes', 'seruo', 'uirtute', 'partem', 'propere', 'oppido', 'solet', 'datur', 'aegre', 'athenis', 'amicus', 'datum', 'frater', 'dabitur', 'dari', 'dat', 'sauium', 'tabellas', 'ari', 'maxume', 'perge', 'pulchre', 'aecum', 'iussi', 'dignus', 'decem', 'ag', 'urbem', 'sos', 'occasio', 'uidulum', 'sang', 'mari', 'proinde', 'abire', 'rus', 'manibus', 'cape', 'eccam', 'uenus', 'minime', 'postulas', 'multos', 'aduenit', 'genere', 'hegio', 'dicit', 'iratus', 'nummum', 'nequeo', 'puero', 'credere', 'perdidit', 'pectus', 'forma', 'sapis', 'uidisse', 'antam', 'ingenium', 'misera', 'apage', 'clanculum', 'facies', 'uiuo', 'matri', 'sient', 'scelus', 'dictum', 'uiuere', 'adueniens', 'maxime', 'ancilla', 'secum', 'scelestus', 'stulte', 'dis', 'ibidem', 'parum', 'duo', 'agere', 'malus', 'audes', 'patiar', 'amas', 'dono', 'postremo', 'amoris', 'ludos', 'emit', 'pugnis', 'gentium', 'rursum', 'audacter', 'taceo', 'filiae', 'lubens', 'sies', 'noctu', 'uita', 'redeo', 'teneo', 'fuisse', 'summo', 'ausculta', 'probus', 'cena', 'repperi', 'dolis', 'procul', 'nocte', 'oportuit', 'deae', 'habitat', 'morem', 'conuenit', 'docte', 'uolunt', 'lepidum', 'sinam', 'quaero', 'gym', 'opere', 'do', 'magno', 'arbitratu', 'eri', 'facto', 'portu', 'uocat', 'faciet', 'milphio', 'palaestrio', 'oro', 'loquor', 'ferre', 'loquar', 'uenio', 'data', 'credidi', 'copiam', 'exit', 'mitte', 'fides', 'emi', 'nostris', 'incedit', 'nauis', 'uiuit', 'amore', 'parentes', 'lepida', 'dedisti', 'tenes', 'dici', 'serui', 'hominis', 'uah', 'adire', 'interea', 'amorem', 'reddam', 'gnatus', 'ruri', 'philocomasium', 'ambae', 'minae', 'scit', 'unam', 'tranio', 'uiros', 'dote', 'fecisse', 'scortum', 'neminem', 'ducere', 'agite', 'libera', 'agas', 'meretricem', 'liberum', 'euenit', 'genus', 'aqua', 'rogitas', 'heia', 'fero', 'noctes', 'quaeris', 'militem', 'flagitium', 'sciat', 'stultus', 'signum', 'oratio', 'terra', 'iure', 'seni', 'sentio', 'peperit', 'nouisse', 'bonis', 'aio', 'placide', 'cesso', 'uino', 'potuit', 'pridem', 'iubeo', 'miserae', 'ames', 'consili', 'pedibus', 'uelit', 'attinet', 'foribus', 'hem', 'uidisti', 'possit', 'uenire', 'roga', 'gnatum', 'lena', 'mira', 'patre', 'hal', 'amicos', 'lenoni', 'spero', 'sanus', 'amicis', 'lege', 'facite', 'uideas', 'linguam', 'adulescentem', 'erga', 'malis', 'frustra', 'locus', 'dabit', 'nouisti', 'diuitias', 'nostram', 'uenerit', 'imperium', 'amet', 'terram', 'uerbero', 'agat', 'salus', 'factus', 'patria', 'urbe', 'memoras', 'anc', 'facturum', 'agedum', 'actum', 'habuit', 'more', 'bonus', 'foret', 'preti', 'fuerit', 'praedam', 'queo', 'serua', 'uenerem', 'era', 'amplius', 'redi', 'temperi', 'uinum', 'pariter', 'puere', 'annos', 'ambas', 'misit', 'parata', 'seruitutem', 'oculi', 'pas', 'pamph', 'magni', 'aduerte', 'ceterum', 'serio', 'consilia', 'pedes', 'agorastocles', 'uostra', 'pedem', 'sententiam', 'amicae', 'dedisse', 'nostrae', 'agit', 'redde', 'sapienter', 'das', 'aiunt', 'noli', 'lingua', 'paene', 'faenus', 'uxore', 'aliter', 'odio', 'pecunia', 'respice', 'dignum', 'otium', 'duae', 'loci', 'denuo', 'uocem', 'namque', 'pallium', 'quiduis', 'exemplum', 'eapse', 'moribus', 'uiris', 'dicto', 'militi', 'gnato', 'seru', 'fanum', 'habui', 'auris', 'maximum', 'cepi', 'quaerere', 'optime', 'sapit', 'euclio', 'mulieri', 'culpam', 'praesente', 'orationem', 'parasitus', 'occepi', 'fortasse', 'spectatores', 'mecastor', 'inquit', 'ducam', 'rationem', 'epistulam', 'faxis', 'talentum', 'negas', 'detur', 'sceleste', 'epidice', 'nego', 'istinc', 'eat', 'conspicor', 'philocr', 'metuis', 'uirgo', 'stultitia', 'lenone', 'possim', 'patriam', 'agitur', 'habeam', 'lucrum', 'bonae', 'sciunt', 'possis', 'astaphium', 'utrum', 'aufer', 'mittam', 'charmides', 'ueni', 'ampelisca', 'amici', 'ocius', 'adesse', 'irata', 'ueniam', 'anulum', 'iniuriam', 'perit', 'dotem', 'palaestra', 'menaechme', 'mutuum', 'oras', 'lor', 'philolaches', 'simo', 'nomine', 'petere', 'sodalis', 'amant', 'molestum', 'properas', 'aram', 'abe', 'genua', 'dices', 'eheu', 'culpa', 'aduenis', 'uasa', 'paratum', 'tergo', 'sermonem', 'miseram', 'satius', 'perdidisti', 'rex', 'quadraginta', 'periclum', 'uidit', 'uerbo', 'patris', 'pretio', 'sex', 'dato', 'ambula', 'sororem', 'proi', 'prior', 'uox', 'mortalis', 'parasitum', 'triginta', 'aderit', 'censeas', 'fano', 'commodum', 'nullam', 'malae', 'hospitium', 'pueri', 'uidet', 'nata', 'aiebat', 'abeas', 'miror', 'postules', 'empta', 'oppidum', 'credis', 'mortuum', 'sodalem', 'summa', 'persse', 'ignem', 'mauelim', 'negat', 'deum', 'fortuna', 'impudens', 'pseudolus', 'callicles', 'dixisti', 'dimidium', 'tergum', 'ballio', 'facilius', 'quaestum', 'mittere', 'diuinam', 'patr', 'attulit', 'inueni', 'benigne', 'uirginem', 'uellem', 'capiam', 'maximam', 'auxilium', 'addecet', 'adducam', 'nescis', 'ordine', 'mnesilochus', 'philocrates', 'optigit', 'absente', 'noctem', 'soli', 'sola', 'cibo', 'commode', 'nihilo', 'opes', 'facete', 'quaerit', 'uitae', 'cibum', 'quidnam', 'dabis', 'maiorem', 'uiuam', 'uetus', 'propterea', 'periclo', 'hospitem', 'taceas', 'gratias', 'flocci', 'seruire', 'erilem', 'eu', 'quattuor', 'uoluit', 'audire', 'faciundum', 'sceledre', 'hostis', 'aduenientem', 'gesta', 'amantem', 'ualete', 'phronesium', 'hortum', 'sumptu', 'gripe', 'praetorem', 'causam', 'esto', 'coquos', 'memineris', 'harpax', 'confido', 'tenet', 'quor', 'pseudole', 'alcumena', 'possunt', 'syr', 'accipiam', 'paucis', 'metu', 'soleo', 'corpus', 'ioui', 'locis', 'perdere', 'ancillas', 'uideam', 'uolup', 'quinque', 'extra', 'tribus', 'gnate', 'ualet', 'meministi', 'lysidamus', 'uilico', 'cleostrata', 'ueneri', 'iniuria', 'nuntium', 'dant', 'facitis', 'soles', 'alienum', 'bonam', 'nummos', 'subito', 'secus', 'ueltis', 'orat', 'fidicinam', 'potero', 'faxint', 'quippini', 'epistulas', 'facie', 'abite', 'aduertite', 'fecero', 'ueniet', 'aduenisse', 'magnam', 'principio', 'rectius', 'leges', 'meretrix', 'ancillam']\n"
     ]
    }
   ],
   "source": [
    "print(model_min_15.vocab)"
   ]
  },
  {
   "cell_type": "code",
   "execution_count": 8,
   "id": "f552a84d",
   "metadata": {},
   "outputs": [
    {
     "data": {
      "text/plain": [
       "10"
      ]
     },
     "execution_count": 8,
     "metadata": {},
     "output_type": "execute_result"
    }
   ],
   "source": [
    "model_min_15.get_num_topics()"
   ]
  },
  {
   "cell_type": "code",
   "execution_count": 10,
   "id": "c50139c3",
   "metadata": {},
   "outputs": [
    {
     "name": "stdout",
     "output_type": "stream",
     "text": [
      "Document: 538, Score: 0.5156365036964417\n",
      "-----------\n",
      "orcus astutiam institui deueniam lenonem domum solus docebo adueniam datum argentum dicat fidicina argenti minas habere quinquaginta nudiustertius manibus denumeraui amica pater filiam retur leno sceleratum caput imprudens alligabit argentum acceperit adducta chaer uersutior rota figularis parabo dolosam fidicinam nummo conducta emptam simulet senes duo docte ludificetur ducet apecides patrem parate permeditatam dolis astuts onustam mittam longum loquor demorati scitis \n",
      "\n",
      "-----------\n",
      "\n",
      "Document: 1142, Score: 0.5086054801940918\n",
      "-----------\n",
      "fabulare fabulor uis argentum accipias iamdudum des porrexi manum accipe quinque argenti lectae numeratae minae erus iussit ferre polymachaeroplagides deberet mitteres phenicium erus dico miles loquor macedonius inquam misit polymachaeroplagides uera memoras argentum dares leno ballio mulierem abduceres phenicium dixit recte meministi mane redeo maturate propera propero uides diem uideo aduocare uolo mane reuertar simo agimus manufesto hominem teneo argentum \n",
      "\n",
      "-----------\n",
      "\n",
      "Document: 864, Score: 0.4836617410182953\n",
      "-----------\n",
      "compellat praesenti facit conuicium debetur obsecro hercle iube obi ci argentum os impurae beluae iubeam iube homini argento os uerberarier da perfacile ictus perpetior argenteos audi uidetur obsecro hercle idoneus danista genus improbissimum curo uolo dici scire expeto argentum debet philolaches paulum quantillum quadraginta minas sane censeas paulum argenti faenus creditum audio quattuor quadraginta debentur minae sors faenus da tantum \n",
      "\n",
      "-----------\n",
      "\n",
      "Document: 1088, Score: 0.48164212703704834\n",
      "-----------\n",
      "habeo profecto pridem uendidi ornamentis intestinis amicam uendidisti ualde uiginti minis uiginti minis uis quater quinis minis militi macedonio quindecim habeo minas audio amicam factam argenteam ausus facere libuit eho pseudole gladium adfer opus gladio occidam occidis potius fames occiderit ais terra tegit hominum periurissume iurauisti nulli uenditurum fateor conceptis uerbis consutis periurauisti sceleste argentum intro condidi scelestus argentum promere \n",
      "\n",
      "-----------\n",
      "\n",
      "Document: 545, Score: 0.45884060859680176\n",
      "-----------\n",
      "produci intus iubes fidicina nugari potes producis fidicinam acropolistidem inquam inquam nouisse rere amicam posse inquam filius deperibat fidicinam gentium hercle argentum dedi stulte datum reor peccatum largiter seruum misi sectari solet gnatum destinauit fidicinam homo articulatim concidit senex seruos concidit suspicio fidicina cerua supposita senex os sublitum plane probe requiram bellator uale epidice frugi pugnauisti homo emunxisti mucidum minimi \n",
      "\n",
      "-----------\n",
      "\n",
      "Document: 671, Score: 0.4583880305290222\n",
      "-----------\n",
      "uendas emi pater dem tace senex quidam mandauit emerem faciem quidam adulescens pater mandauit faciem emerem dem uiginti minis opinor posse uendere uelim dantur septem uiginti minae dem inquam dem nescis dicturus tace minas accudere triginta sient uertisti emit ubinam homo gentium dem eccillum uideo iubet quinque addere minas hercle diui infelicent dem ibidem adnutat addam sex minas septem dem \n",
      "\n",
      "-----------\n",
      "\n",
      "Document: 1093, Score: 0.4541369676589966\n",
      "-----------\n",
      "uicino callipho incedere sepulcro uetere uiginti minas effodiam hodie dem erili filio concedam sermonem legam simo damnosis amatoribus dictator fiat athenis atticis anteueniat filio credo urbem solus sermoni uelle amicam liberare quaerere argentum renuntiant pridem sensi subolebat dissimulabam fetet filius occisa haeret negotium commeatum uolui argentarium proficisci oppido opsaepta uia praesensit praedae praedatoribus callipho homines gestant auscultant crimina arbitratu liceat \n",
      "\n",
      "-----------\n",
      "\n",
      "Document: 533, Score: 0.4524604082107544\n",
      "-----------\n",
      "leges tenet epidico habeas gratiam faciam sedulo conueniam adducam quoia fidicina argentum feram emi minimo quadraginta fortasse posse emi minimo minis uerum plus dederis referam captio decem occupatum argentum dies mulierem adulescens deperit auro opulentus magnus miles rhodius raptor hostium gloriosus emet dabit aurum lubens face lucrum amplum deos oro impetras intro argentum promis uisam forum epidice ueni abitas prius \n",
      "\n",
      "-----------\n",
      "\n",
      "Document: 1137, Score: 0.4518457055091858\n",
      "-----------\n",
      "uenit homo boni minae uiginti sanae saluae hodie instipulatus pseudolus uelim hercle roga uiginti minas hodie potitus muliere gnato hodie promisit dabit roga opsecro hercle gestio promittere modis saluam scias habeto mulierem dono periclum sciam stipularier concepisti uerba uiginti minas dabi dabuntur actum male conuenisti hominem ambo ait narrat quaeso dixit nugas theatri uerba comeds solent lenoni dici pueri sciunt \n",
      "\n",
      "-----------\n",
      "\n",
      "Document: 113, Score: 0.4281253218650818\n",
      "-----------\n",
      "uera uerum edepol malefacta iterari possunt sciens fideli infidus fueris prensus furto sies manifesto uerberatus periuraris sacro manus admolitus damno molestiae dedecori fueris creditum datum pernegaris amicae amico fueris fidelis languorem duritia dederis octo ualidos lictores ulmeis adfectos lentis uirgis male relata gratia collegam collaudaui leo maxime ingenio decuit omitte rogo responde leo rogita uis argenti uinginti minas habes leo \n",
      "\n",
      "-----------\n",
      "\n"
     ]
    }
   ],
   "source": [
    "documents, document_scores, document_ids = model_min_15.search_documents_by_topic(topic_num=1, num_docs=10)\n",
    "for doc, score, doc_id in zip(documents, document_scores, document_ids):\n",
    "    print(f\"Document: {doc_id}, Score: {score}\")\n",
    "    print(\"-----------\")\n",
    "    print(doc)\n",
    "    print(\"-----------\")\n",
    "    print()"
   ]
  },
  {
   "cell_type": "code",
   "execution_count": 11,
   "id": "ed90d7dc",
   "metadata": {},
   "outputs": [
    {
     "name": "stdout",
     "output_type": "stream",
     "text": [
      "[245 221 194 147 143 130 112 112 101  82]\n"
     ]
    }
   ],
   "source": [
    "topic_sizes, topic_nums = model_min_15.get_topic_sizes()\n",
    "print(topic_sizes)"
   ]
  },
  {
   "cell_type": "code",
   "execution_count": 12,
   "id": "6b8757f4",
   "metadata": {},
   "outputs": [],
   "source": [
    "topic_words, word_scores, topic_nums = model_min_15.get_topics(5)"
   ]
  },
  {
   "cell_type": "code",
   "execution_count": 13,
   "id": "1b5ff395",
   "metadata": {},
   "outputs": [
    {
     "name": "stdout",
     "output_type": "stream",
     "text": [
      "0\n",
      "Words: ['philocrates' 'bonis' 'uirtute' 'seruitutem' 'fides' 'mores' 'seruire'\n",
      " 'hegio' 'patri' 'genus' 'amico' 'diuitias' 'liberum' 'frugi' 'factis'\n",
      " 'moribus' 'lucrum' 'merito' 'secus' 'conuenit' 'parentes' 'erga' 'feci'\n",
      " 'meretricem' 'gnatum' 'filius' 'genere' 'ingenio' 'intellego' 'habuit'\n",
      " 'dicto' 'pectore' 'ingenium' 'dis' 'gratiam' 'deum' 'opes' 'more' 'boni'\n",
      " 'dolis' 'denuo' 'occasio' 'sodalem' 'repperi' 'perdidit' 'bonus'\n",
      " 'mittere' 'loqui' 'filio' 'feceris']\n",
      "1\n",
      "Words: ['minas' 'minae' 'argenti' 'quinque' 'uiginti' 'argentum' 'quadraginta'\n",
      " 'epidice' 'fidicinam' 'argento' 'minis' 'leo' 'triginta' 'pseudole'\n",
      " 'mittam' 'pseudolus' 'lenone' 'emi' 'simo' 'gnato' 'tranio' 'tribus'\n",
      " 'ballio' 'facie' 'magno' 'roga' 'sex' 'uah' 'ueni' 'gentium' 'faenus'\n",
      " 'philolaches' 'amantem' 'emit' 'loquor' 'tabellas' 'sciunt' 'hodie'\n",
      " 'inquam' 'amicam' 'gratia' 'stultus' 'dabit' 'dolis' 'tergum' 'arbitratu'\n",
      " 'audio' 'quidnam' 'des' 'pulchre']\n",
      "2\n",
      "Words: ['mat' 'pallam' 'alcumena' 'uxori' 'menaechme' 'uxor' 'domo' 'capiam'\n",
      " 'amphitruo' 'pedem' 'taces' 'peperit' 'syr' 'noctu' 'mulier' 'redi'\n",
      " 'uiro' 'portu' 'pallium' 'uirum' 'nescio' 'agam' 'sati' 'mess' 'certe'\n",
      " 'conspicor' 'mane' 'nouisti' 'ruri' 'praeter' 'aduenit' 'tergum'\n",
      " 'prandium' 'uxore' 'oculi' 'rex' 'rus' 'exit' 'locis' 'proi' 'mira'\n",
      " 'uxorem' 'malae' 'actutum' 'rogitas' 'era' 'pugnis' 'clanculum'\n",
      " 'loquitur' 'abis']\n",
      "3\n",
      "Words: ['daem' 'uidulum' 'fanum' 'palaestra' 'gripe' 'ueneris' 'fano' 'mari'\n",
      " 'scelestus' 'magnum' 'uenus' 'ampelisca' 'ueneri' 'ples' 'aram' 'leno'\n",
      " 'uenerem' 'mare' 'inueni' 'mulieres' 'ambas' 'copia' 'optigit' 'oras'\n",
      " 'genua' 'ignem' 'miserae' 'partem' 'propera' 'talentum' 'benigne' 'ius'\n",
      " 'spes' 'nocte' 'lor' 'terram' 'gratiam' 'persse' 'istinc' 'facie' 'salua'\n",
      " 'occepi' 'caput' 'lenonem' 'naui' 'optime' 'aduerte' 'continuo' 'erum'\n",
      " 'iniuria']\n",
      "4\n",
      "Words: ['sceledre' 'philocomasium' 'palaestrio' 'uidisse' 'uidit' 'erilem'\n",
      " 'fores' 'hospitem' 'uerbero' 'exit' 'pleus' 'paene' 'uidisti' 'foris'\n",
      " 'intus' 'eat' 'militi' 'fuerit' 'sceleste' 'oculos' 'nostrae' 'eho'\n",
      " 'potis' 'aram' 'possit' 'aedibus' 'eccam' 'amorem' 'domi' 'negoti'\n",
      " 'aedis' 'ignem' 'orationem' 'ambas' 'oculi' 'aduenisse' 'agam' 'mira'\n",
      " 'uidi' 'maximum' 'sermonem' 'linguam' 'mirum' 'facinus' 'soli' 'miles'\n",
      " 'nescio' 'potuit' 'hortum' 'ostium']\n"
     ]
    }
   ],
   "source": [
    "for words, scores, num in zip(topic_words, word_scores, topic_nums):\n",
    "    print(num)\n",
    "    print(f\"Words: {words}\")"
   ]
  },
  {
   "cell_type": "code",
   "execution_count": 15,
   "id": "01c57df6",
   "metadata": {},
   "outputs": [
    {
     "data": {
      "text/plain": [
       "(array(['genere gnatum optestor hegio animum auariorem faxint diuitiae patri unicus decere uideatur saturum seruire sumptu uestitu potius minime honestum mendicantem uiuere uirtute deum maiorum diues lucrum utile homini existimo scio multos lucrum lutulentos homines reddidit profecto damnum praestet facere lucrum odi aurum suasit perperam animum aduerte sentio pariter scias filius seruit captus alide reddis praeterea unum nummum duis amittam pacto \\n'],\n",
       "       dtype=object),\n",
       " array([0.5173715], dtype=float32),\n",
       " array([333]))"
      ]
     },
     "execution_count": 15,
     "metadata": {},
     "output_type": "execute_result"
    }
   ],
   "source": [
    "model_min_15.search_documents_by_topic(0, num_docs=1) #search documents by topic"
   ]
  },
  {
   "cell_type": "code",
   "execution_count": null,
   "id": "99cbcf98",
   "metadata": {},
   "outputs": [],
   "source": []
  }
 ],
 "metadata": {
  "kernelspec": {
   "display_name": "Python 3 (ipykernel)",
   "language": "python",
   "name": "python3"
  },
  "language_info": {
   "codemirror_mode": {
    "name": "ipython",
    "version": 3
   },
   "file_extension": ".py",
   "mimetype": "text/x-python",
   "name": "python",
   "nbconvert_exporter": "python",
   "pygments_lexer": "ipython3",
   "version": "3.8.10"
  }
 },
 "nbformat": 4,
 "nbformat_minor": 5
}
